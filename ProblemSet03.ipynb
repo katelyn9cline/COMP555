{
 "cells": [
  {
   "cell_type": "markdown",
   "metadata": {
    "section": "header"
   },
   "source": [
    "<div style=\"text-align: center;\">\n",
    "<h1>The University of North Carolina at Chapel Hill</h1>\n",
    "<h1>Comp 555 BioAlgorithms - Spring 2021</h1>\n",
    "<h1 style=\"font-size: 250%;\">Problem Set #3</h1>\n",
    "<h1 style=\"font-size: 150%;\">Version 1.1</h1>\n",
    "<h1>Issued Thursday, 2/22/2021; Due Thursday, 3/16/2021</h1>\n",
    "</div>\n",
    "\n",
    "**Homework Information:** Some of the problems are probably too long to be done the night before the due date, so plan accordingly. Late problem sets will not be accepted. Feel free to get help from others, but **the work you submit in should be your own.**\n",
    "\n",
    "**Warning:** This notebook has been annotated with metadata so that it can be uploaded to the grading system. It is very important that you enter your answers in the provided cells. You can add extra cells to explore approaches, but only the provided cell can and will be graded. Thus, if you delete a cell and add a replacement, there is a possiblity that your problem will not be graded. If you ever need to start over, you should download a new version of the problem set and transfer your solutions to it."
   ]
  },
  {
   "cell_type": "code",
   "execution_count": 2,
   "metadata": {
    "section": "signature"
   },
   "outputs": [],
   "source": [
    "# Replace the following string values with the requested information\n",
    "class Student:\n",
    "    first = \"Katelyn\"\n",
    "    last = \"Cline\"\n",
    "    onyen = \"katelyn9\"\n",
    "    pid = \"730152239\""
   ]
  },
  {
   "cell_type": "markdown",
   "metadata": {
    "section": "setup"
   },
   "source": [
    "You will need a set of 31 base-pair <a href=\"http://csbio.unc.edu/mcmillan/Comp555S21/reads.fa\" download=\"reads.fa\">simulated reads</a> from a genome that will be used for assembly.\n",
    "The cell below provides various functions and imports necessary for this problem set. Do not import any addtional packages. Also, make sure that you ***run the following cell***.\n",
    "\n",
    "In many problems you are asked to consider or report an interval of a substring. I am expecting you to use Python's interval/range definition as is used for slicing strings and accessing lists. Such interval specifications are called *right-open* meaning that they contain all values from the interval start and up to, but not including the interval end. As an example, for the string <code>tarheel = \"carolina\"</code>, the interval <code>tarheel[2:5] == \"rol\"</code> as illustrated below:\n",
    "\n",
    "<pre>\n",
    "\n",
    "                                index:      01234567\n",
    "                               string:     \"carolina\"\n",
    "                             interval:        ---O\n",
    "</pre>\n",
    "\n",
    "Likewise, the the interval of suffixes begining with 'a' in the following list of sorted circular suffixes shown below is suf[1:3]:\n",
    "\n",
    "<pre>\n",
    "                             suf = [ '$carolina',\n",
    "                                     'a$carolin',\n",
    "                                     'arolina$c',\n",
    "                                     'carolina$',\n",
    "                                     'ina$carol',\n",
    "                                     'lina$caro',\n",
    "                                     'na$caroli',\n",
    "                                     'olina$car',\n",
    "                                     'rolina$ca'  ]\n",
    "</pre>\n",
    "\n",
    "This applies to the genomic intervals that you are asked to use and report in **Problem 4**."
   ]
  },
  {
   "cell_type": "code",
   "execution_count": 3,
   "metadata": {
    "section": "givencode"
   },
   "outputs": [],
   "source": [
    "import itertools\n",
    "import math\n",
    "%matplotlib inline\n",
    "import matplotlib\n",
    "import matplotlib.pyplot as plt\n",
    "\n",
    "def loadFasta(filename):\n",
    "    \"\"\" Parses a classically formatted and possibly \n",
    "        compressed FASTA file into two lists. One of \n",
    "        headers and a second list of sequences.\n",
    "        The ith index of each list correspond.\"\"\"\n",
    "    if (filename.endswith(\".gz\")):\n",
    "        fp = gzip.open(filename, 'r')\n",
    "    else:\n",
    "        fp = open(filename, 'r')\n",
    "    # split at headers\n",
    "    data = fp.read().split('>')\n",
    "    fp.close()\n",
    "    # ignore whatever appears before the 1st header\n",
    "    data.pop(0)     \n",
    "    headers = []\n",
    "    sequences = []\n",
    "    for sequence in data:\n",
    "        lines = sequence.split('\\n')\n",
    "        headers.append(lines.pop(0))\n",
    "        # add an extra \"+\" to make string \"1-referenced\"\n",
    "        sequences.append('+' + ''.join(lines))\n",
    "    return (headers, sequences)\n",
    "\n",
    "class Graph:\n",
    "    def __init__(self, vlist=[]):\n",
    "        \"\"\" Initialize a Graph with an optional vertex list \"\"\"\n",
    "        self.index = {v:i for i,v in enumerate(vlist)}\n",
    "        self.vertex = {i:v for i,v in enumerate(vlist)}\n",
    "        self.edge = []\n",
    "        self.edgelabel = []\n",
    "    def addVertex(self, label):\n",
    "        \"\"\" Add a labeled vertex to the graph \"\"\"\n",
    "        index = len(self.index)\n",
    "        self.index[label] = index\n",
    "        self.vertex[index] = label\n",
    "    def addEdge(self, vsrc, vdst, label='', repeats=True):\n",
    "        \"\"\" Add a directed edge to the graph, with an optional label. \n",
    "        Repeated edges are distinct, unless repeats is set to False. \"\"\"\n",
    "        e = (self.index[vsrc], self.index[vdst])\n",
    "        if (repeats) or (e not in self.edge):\n",
    "            self.edge.append(e)\n",
    "            self.edgelabel.append(label)\n",
    "    def hamiltonianPath(self):\n",
    "        \"\"\" A Brute-force method for finding a Hamiltonian Path. \n",
    "        Basically, all possible N! paths are enumerated and checked\n",
    "        for edges. Since edges can be reused there are no distictions\n",
    "        made for *which* version of a repeated edge. \"\"\"\n",
    "        for path in itertools.permutations(sorted(self.index.values())):\n",
    "            for i in range(len(path)-1):\n",
    "                if ((path[i],path[i+1]) not in self.edge):\n",
    "                    break\n",
    "            else:\n",
    "                return [self.vertex[i] for i in path]\n",
    "        return []\n",
    "    def SearchTree(self, path, verticesLeft):\n",
    "        \"\"\" A recursive Branch-and-Bound Hamiltonian Path search. \n",
    "        Paths are extended one node at a time using only available\n",
    "        edges from the graph. \"\"\"\n",
    "        if (len(verticesLeft) == 0):\n",
    "            self.PathV2result = [self.vertex[i] for i in path]\n",
    "            return True\n",
    "        for v in verticesLeft:\n",
    "            if (len(path) == 0) or ((path[-1],v) in self.edge):\n",
    "                if self.SearchTree(path+[v], [r for r in verticesLeft if r != v]):\n",
    "                    return True\n",
    "        return False\n",
    "    def hamiltonianPathV2(self):\n",
    "        \"\"\" A wrapper function for invoking the Branch-and-Bound \n",
    "        Hamiltonian Path search. \"\"\"\n",
    "        self.PathV2result = []\n",
    "        self.SearchTree([],sorted(self.index.values()))                \n",
    "        return self.PathV2result\n",
    "    def degrees(self):\n",
    "        \"\"\" Returns two dictionaries with the inDegree and outDegree\n",
    "        of each node from the graph. \"\"\"\n",
    "        inDegree = {}\n",
    "        outDegree = {}\n",
    "        for src, dst in self.edge:\n",
    "            outDegree[src] = outDegree.get(src, 0) + 1\n",
    "            inDegree[dst] = inDegree.get(dst, 0) + 1\n",
    "        return inDegree, outDegree\n",
    "    def verifyAndGetStart(self):\n",
    "        inDegree, outDegree = self.degrees()\n",
    "        start = 0\n",
    "        end = 0\n",
    "        for vert in self.vertex.keys():\n",
    "            ins = inDegree.get(vert,0)\n",
    "            outs = outDegree.get(vert,0)\n",
    "            if (ins == outs):\n",
    "                continue\n",
    "            elif (ins - outs == 1):\n",
    "                end = vert\n",
    "            elif (outs - ins == 1):\n",
    "                start = vert\n",
    "            else:\n",
    "                start, end = -1, -1\n",
    "                break\n",
    "        if (start >= 0) and (end >= 0):\n",
    "            return start\n",
    "        else:\n",
    "            return -1\n",
    "    def eulerianPath(self):\n",
    "        graph = [(src,dst) for src,dst in self.edge]\n",
    "        currentVertex = self.verifyAndGetStart()\n",
    "        path = [currentVertex]\n",
    "        # \"next\" is where vertices get inserted into our tour\n",
    "        # it starts at the end (i.e. it is the same as appending),\n",
    "        # but later \"side-trips\" will insert in the middle\n",
    "        next = 1\n",
    "        while len(graph) > 0:\n",
    "            for edge in graph:\n",
    "                if (edge[0] == currentVertex):\n",
    "                    currentVertex = edge[1]\n",
    "                    graph.remove(edge)\n",
    "                    path.insert(next, currentVertex)\n",
    "                    next += 1\n",
    "                    break\n",
    "            else:\n",
    "                for edge in graph:\n",
    "                    try:\n",
    "                        next = path.index(edge[0]) + 1\n",
    "                        currentVertex = edge[0]\n",
    "                        break\n",
    "                    except ValueError:\n",
    "                        continue\n",
    "                else:\n",
    "                    print(\"There is no path!\")\n",
    "                    return False\n",
    "        return path\n",
    "    def eulerEdges(self, path):\n",
    "        edgeId = {}\n",
    "        for i in range(len(self.edge)):\n",
    "            edgeId[self.edge[i]] = edgeId.get(self.edge[i], []) + [i]\n",
    "        edgeList = []\n",
    "        for i in range(len(path)-1):\n",
    "            edgeList.append(self.edgelabel[edgeId[path[i],path[i+1]].pop()])            \n",
    "        return edgeList\n",
    "    def render(self, highlightPath=[]):\n",
    "        \"\"\" Outputs a version of the graph that can be rendered\n",
    "        using graphviz tools (http://www.graphviz.org/).\"\"\"\n",
    "        edgeId = {}\n",
    "        for i in range(len(self.edge)):\n",
    "            edgeId[self.edge[i]] = edgeId.get(self.edge[i], []) + [i]\n",
    "        edgeSet = set()\n",
    "        for i in range(len(highlightPath)-1):\n",
    "            src = self.index[highlightPath[i]]\n",
    "            dst = self.index[highlightPath[i+1]]\n",
    "            edgeSet.add(edgeId[src,dst].pop())\n",
    "        result = ''\n",
    "        result += 'digraph {\\n'\n",
    "        result += '   graph [nodesep=2, size=\"10,10\"];\\n'\n",
    "        for index, label in self.vertex.iteritems():\n",
    "            result += '    N%d [shape=\"box\", style=\"rounded\", label=\"%s\"];\\n' % (index, label)\n",
    "        for i, e in enumerate(self.edge):\n",
    "            src, dst = e\n",
    "            result += '    N%d -> N%d' % (src, dst)\n",
    "            label = self.edgelabel[i]\n",
    "            if (len(label) > 0):\n",
    "                if (i in edgeSet):\n",
    "                    result += ' [label=\"%s\", penwidth=3.0]' % (label)\n",
    "                else:\n",
    "                    result += ' [label=\"%s\"]' % (label)\n",
    "            elif (i in edgeSet):\n",
    "                result += ' [penwidth=3.0]'                \n",
    "            result += ';\\n'                \n",
    "        result += '    overlap=false;\\n'\n",
    "        result += '}\\n'\n",
    "        return result"
   ]
  },
  {
   "cell_type": "markdown",
   "metadata": {
    "number": 1,
    "section": "problem"
   },
   "source": [
    "**Problem #1:** Construct a minimal string of DNA nucleotides includes every 4-base k-mer exactly once *except* \"ACAT\" which does not appear. How long is your string? How long is the minimal string of DNA nucleotides that includes \"ACAT\" exactly twice and all other 4-mers exactly once?"
   ]
  },
  {
   "cell_type": "code",
   "execution_count": 4,
   "metadata": {
    "number": 1,
    "section": "workcode"
   },
   "outputs": [
    {
     "name": "stdout",
     "output_type": "stream",
     "text": [
      "2.36 ms ± 887 µs per loop (mean ± std. dev. of 7 runs, 100 loops each)\n",
      "['AAA', 'AAC', 'AAG', 'AAT', 'ACA', 'ACC', 'ACG', 'ACT', 'AGA', 'AGC', 'AGG', 'AGT', 'ATA', 'ATC', 'ATG', 'ATT', 'CAA', 'CAC', 'CAG', 'CAT', 'CCA', 'CCC', 'CCG', 'CCT', 'CGA', 'CGC', 'CGG', 'CGT', 'CTA', 'CTC', 'CTG', 'CTT', 'GAA', 'GAC', 'GAG', 'GAT', 'GCA', 'GCC', 'GCG', 'GCT', 'GGA', 'GGC', 'GGG', 'GGT', 'GTA', 'GTC', 'GTG', 'GTT', 'TAA', 'TAC', 'TAG', 'TAT', 'TCA', 'TCC', 'TCG', 'TCT', 'TGA', 'TGC', 'TGG', 'TGT', 'TTA', 'TTC', 'TTG', 'TTT']\n",
      "[19, 12, 51, 12, 48, 0, 0, 1, 5, 21, 21, 22, 26, 42, 42, 43, 47, 63, 63, 62, 59, 47, 62, 58, 43, 46, 59, 46, 58, 42, 41, 38, 26, 43, 45, 54, 26, 41, 37, 22, 27, 46, 57, 38, 27, 47, 61, 54, 27, 45, 53, 22, 25, 38, 25, 39, 29, 55, 29, 54, 25, 37, 21, 23, 30, 58, 41, 39, 30, 59, 45, 55, 30, 57, 37, 23, 31, 62, 57, 39, 31, 63, 61, 55, 31, 61, 53, 23, 29, 53, 21, 20, 17, 5, 22, 24, 33, 5, 23, 28, 49, 5, 20, 16, 1, 6, 25, 36, 17, 6, 26, 40, 33, 6, 27, 44, 49, 6, 24, 32, 1, 7, 29, 52, 17, 7, 30, 56, 33, 7, 31, 60, 49, 7, 28, 48, 1, 4, 16, 0, 2, 9, 37, 20, 18, 9, 38, 24, 34, 9, 39, 28, 50, 9, 36, 16, 2, 10, 41, 36, 18, 10, 42, 40, 34, 10, 43, 44, 50, 10, 40, 32, 2, 11, 45, 52, 18, 11, 46, 56, 34, 11, 47, 60, 50, 11, 44, 48, 2, 8, 34, 8, 35, 12, 50, 8, 32, 0, 3, 13, 53, 20, 19, 13, 54, 24, 35, 13, 55, 28, 51, 13, 52, 16, 3, 14, 57, 36, 19, 14, 58, 40, 35, 14, 59, 44, 51, 14, 56, 32, 3, 15, 61, 52, 19, 15, 62, 56, 35, 15, 63, 60, 51, 15, 60, 48, 3, 12, 49, 4, 17, 4, 18, 8, 33, 4]\n",
      "['CATA', 'ATAT', 'TATA', 'ATAA', 'TAAA', 'AAAA', 'AAAC', 'AACC', 'ACCC', 'CCCC', 'CCCG', 'CCGG', 'CGGG', 'GGGG', 'GGGT', 'GGTT', 'GTTT', 'TTTT', 'TTTG', 'TTGT', 'TGTT', 'GTTG', 'TTGG', 'TGGT', 'GGTG', 'GTGT', 'TGTG', 'GTGG', 'TGGG', 'GGGC', 'GGCG', 'GCGG', 'CGGT', 'GGTC', 'GTCG', 'TCGG', 'CGGC', 'GGCC', 'GCCG', 'CCGT', 'CGTG', 'GTGC', 'TGCG', 'GCGT', 'CGTT', 'GTTC', 'TTCG', 'TCGT', 'CGTC', 'GTCC', 'TCCG', 'CCGC', 'CGCG', 'GCGC', 'CGCT', 'GCTC', 'CTCT', 'TCTC', 'CTCG', 'TCGC', 'CGCC', 'GCCC', 'CCCT', 'CCTG', 'CTGG', 'TGGC', 'GGCT', 'GCTG', 'CTGT', 'TGTC', 'GTCT', 'TCTG', 'CTGC', 'TGCC', 'GCCT', 'CCTT', 'CTTG', 'TTGC', 'TGCT', 'GCTT', 'CTTT', 'TTTC', 'TTCT', 'TCTT', 'CTTC', 'TTCC', 'TCCT', 'CCTC', 'CTCC', 'TCCC', 'CCCA', 'CCAC', 'CACC', 'ACCG', 'CCGA', 'CGAC', 'GACC', 'ACCT', 'CCTA', 'CTAC', 'TACC', 'ACCA', 'CCAA', 'CAAC', 'AACG', 'ACGC', 'CGCA', 'GCAC', 'CACG', 'ACGG', 'CGGA', 'GGAC', 'GACG', 'ACGT', 'CGTA', 'GTAC', 'TACG', 'ACGA', 'CGAA', 'GAAC', 'AACT', 'ACTC', 'CTCA', 'TCAC', 'CACT', 'ACTG', 'CTGA', 'TGAC', 'GACT', 'ACTT', 'CTTA', 'TTAC', 'TACT', 'ACTA', 'CTAA', 'TAAC', 'AACA', 'ACAA', 'CAAA', 'AAAG', 'AAGC', 'AGCC', 'GCCA', 'CCAG', 'CAGC', 'AGCG', 'GCGA', 'CGAG', 'GAGC', 'AGCT', 'GCTA', 'CTAG', 'TAGC', 'AGCA', 'GCAA', 'CAAG', 'AAGG', 'AGGC', 'GGCA', 'GCAG', 'CAGG', 'AGGG', 'GGGA', 'GGAG', 'GAGG', 'AGGT', 'GGTA', 'GTAG', 'TAGG', 'AGGA', 'GGAA', 'GAAG', 'AAGT', 'AGTC', 'GTCA', 'TCAG', 'CAGT', 'AGTG', 'GTGA', 'TGAG', 'GAGT', 'AGTT', 'GTTA', 'TTAG', 'TAGT', 'AGTA', 'GTAA', 'TAAG', 'AAGA', 'AGAG', 'GAGA', 'AGAT', 'GATA', 'ATAG', 'TAGA', 'AGAA', 'GAAA', 'AAAT', 'AATC', 'ATCC', 'TCCA', 'CCAT', 'CATC', 'ATCG', 'TCGA', 'CGAT', 'GATC', 'ATCT', 'TCTA', 'CTAT', 'TATC', 'ATCA', 'TCAA', 'CAAT', 'AATG', 'ATGC', 'TGCA', 'GCAT', 'CATG', 'ATGG', 'TGGA', 'GGAT', 'GATG', 'ATGT', 'TGTA', 'GTAT', 'TATG', 'ATGA', 'TGAA', 'GAAT', 'AATT', 'ATTC', 'TTCA', 'TCAT', 'CATT', 'ATTG', 'TTGA', 'TGAT', 'GATT', 'ATTT', 'TTTA', 'TTAT', 'TATT', 'ATTA', 'TTAA', 'TAAT', 'AATA', 'ATAC', 'TACA', 'ACAC', 'CACA', 'ACAG', 'CAGA', 'AGAC', 'GACA']\n",
      "pathString length =  258\n",
      "CATATAAAACCCCGGGGTTTTGTTGGTGTGGGCGGTCGGCCGTGCGTTCGTCCGCGCTCTCGCCCTGGCTGTCTGCCTTGCTTTCTTCCTCCCACCGACCTACCAACGCACGGACGTACGAACTCACTGACTTACTAACAAAGCCAGCGAGCTAGCAAGGCAGGGAGGTAGGAAGTCAGTGAGTTAGTAAGAGATAGAAATCCATCGATCTATCAATGCATGGATGTATGAATTCATTGATTTATTAATACACAGACA\n"
     ]
    }
   ],
   "source": [
    "# This cell is provided for work on problem 1. It will not be graded.\n",
    "poss = []\n",
    "for number in itertools.product((\"A\", \"C\", \"G\", \"T\"), repeat = 4):\n",
    "    poss.append(''.join(number))\n",
    "poss.remove(\"ACAT\")\n",
    "\n",
    "nodes = sorted(set([code[:-1] for code in poss] + [code[1:] for code in poss]))\n",
    "G = Graph(nodes)\n",
    "\n",
    "for code in poss:\n",
    "   # Here I give each edge a label\n",
    "   G.addEdge(code[:-1],code[1:],code)\n",
    "\n",
    "%timeit G.eulerianPath()\n",
    "path = G.eulerianPath()\n",
    "print(nodes)\n",
    "print(path)\n",
    "edges = G.eulerEdges(path)\n",
    "print(edges)\n",
    "pathString = edges[0] + ''.join([edges[i][-1] for i in range(1,len(edges))])\n",
    "print(\"pathString length = \", len(pathString))\n",
    "print(pathString)"
   ]
  },
  {
   "cell_type": "code",
   "execution_count": 5,
   "metadata": {},
   "outputs": [
    {
     "name": "stdout",
     "output_type": "stream",
     "text": [
      "2.27 ms ± 106 µs per loop (mean ± std. dev. of 7 runs, 1000 loops each)\n",
      "nodes:  ['AAA', 'AAC', 'AAG', 'AAT', 'ACA', 'ACC', 'ACG', 'ACT', 'AGA', 'AGC', 'AGG', 'AGT', 'ATA', 'ATC', 'ATG', 'ATT', 'CAA', 'CAC', 'CAG', 'CAT', 'CCA', 'CCC', 'CCG', 'CCT', 'CGA', 'CGC', 'CGG', 'CGT', 'CTA', 'CTC', 'CTG', 'CTT', 'GAA', 'GAC', 'GAG', 'GAT', 'GCA', 'GCC', 'GCG', 'GCT', 'GGA', 'GGC', 'GGG', 'GGT', 'GTA', 'GTC', 'GTG', 'GTT', 'TAA', 'TAC', 'TAG', 'TAT', 'TCA', 'TCC', 'TCG', 'TCT', 'TGA', 'TGC', 'TGG', 'TGT', 'TTA', 'TTC', 'TTG', 'TTT']\n",
      "path:  [4, 16, 0, 0, 1, 4, 17, 4, 18, 8, 34, 8, 35, 12, 51, 12, 50, 8, 32, 0, 2, 8, 33, 4, 19, 12, 48, 0, 3, 12, 49, 4, 19, 13, 54, 24, 35, 13, 55, 28, 51, 13, 52, 16, 1, 5, 22, 26, 42, 42, 43, 47, 63, 63, 62, 59, 47, 62, 58, 43, 46, 59, 46, 58, 42, 41, 38, 26, 43, 45, 54, 26, 41, 37, 22, 27, 46, 57, 38, 27, 47, 61, 54, 27, 45, 53, 22, 24, 33, 5, 23, 30, 58, 41, 39, 30, 59, 45, 55, 30, 57, 37, 23, 31, 62, 57, 39, 31, 63, 61, 55, 31, 61, 53, 23, 28, 49, 5, 20, 16, 2, 9, 38, 24, 34, 9, 39, 28, 50, 9, 36, 16, 3, 13, 53, 20, 17, 5, 21, 21, 22, 25, 38, 25, 39, 29, 55, 29, 54, 25, 37, 21, 23, 29, 53, 21, 20, 18, 9, 37, 20, 19, 14, 58, 40, 35, 14, 59, 44, 51, 14, 56, 32, 1, 6, 26, 40, 33, 6, 27, 44, 49, 6, 24, 32, 2, 10, 42, 40, 34, 10, 43, 44, 50, 10, 40, 32, 3, 14, 57, 36, 17, 6, 25, 36, 18, 10, 41, 36, 19, 15, 62, 56, 35, 15, 63, 60, 51, 15, 60, 48, 1, 7, 30, 56, 33, 7, 31, 60, 49, 7, 28, 48, 2, 11, 46, 56, 34, 11, 47, 60, 50, 11, 44, 48, 3, 15, 61, 52, 17, 7, 29, 52, 18, 11, 45, 52, 19]\n",
      "edges:  ['ACAA', 'CAAA', 'AAAA', 'AAAC', 'AACA', 'ACAC', 'CACA', 'ACAG', 'CAGA', 'AGAG', 'GAGA', 'AGAT', 'GATA', 'ATAT', 'TATA', 'ATAG', 'TAGA', 'AGAA', 'GAAA', 'AAAG', 'AAGA', 'AGAC', 'GACA', 'ACAT', 'CATA', 'ATAA', 'TAAA', 'AAAT', 'AATA', 'ATAC', 'TACA', 'ACAT', 'CATC', 'ATCG', 'TCGA', 'CGAT', 'GATC', 'ATCT', 'TCTA', 'CTAT', 'TATC', 'ATCA', 'TCAA', 'CAAC', 'AACC', 'ACCG', 'CCGG', 'CGGG', 'GGGG', 'GGGT', 'GGTT', 'GTTT', 'TTTT', 'TTTG', 'TTGT', 'TGTT', 'GTTG', 'TTGG', 'TGGT', 'GGTG', 'GTGT', 'TGTG', 'GTGG', 'TGGG', 'GGGC', 'GGCG', 'GCGG', 'CGGT', 'GGTC', 'GTCG', 'TCGG', 'CGGC', 'GGCC', 'GCCG', 'CCGT', 'CGTG', 'GTGC', 'TGCG', 'GCGT', 'CGTT', 'GTTC', 'TTCG', 'TCGT', 'CGTC', 'GTCC', 'TCCG', 'CCGA', 'CGAC', 'GACC', 'ACCT', 'CCTG', 'CTGG', 'TGGC', 'GGCT', 'GCTG', 'CTGT', 'TGTC', 'GTCT', 'TCTG', 'CTGC', 'TGCC', 'GCCT', 'CCTT', 'CTTG', 'TTGC', 'TGCT', 'GCTT', 'CTTT', 'TTTC', 'TTCT', 'TCTT', 'CTTC', 'TTCC', 'TCCT', 'CCTA', 'CTAC', 'TACC', 'ACCA', 'CCAA', 'CAAG', 'AAGC', 'AGCG', 'GCGA', 'CGAG', 'GAGC', 'AGCT', 'GCTA', 'CTAG', 'TAGC', 'AGCA', 'GCAA', 'CAAT', 'AATC', 'ATCC', 'TCCA', 'CCAC', 'CACC', 'ACCC', 'CCCC', 'CCCG', 'CCGC', 'CGCG', 'GCGC', 'CGCT', 'GCTC', 'CTCT', 'TCTC', 'CTCG', 'TCGC', 'CGCC', 'GCCC', 'CCCT', 'CCTC', 'CTCC', 'TCCC', 'CCCA', 'CCAG', 'CAGC', 'AGCC', 'GCCA', 'CCAT', 'CATG', 'ATGG', 'TGGA', 'GGAT', 'GATG', 'ATGT', 'TGTA', 'GTAT', 'TATG', 'ATGA', 'TGAA', 'GAAC', 'AACG', 'ACGG', 'CGGA', 'GGAC', 'GACG', 'ACGT', 'CGTA', 'GTAC', 'TACG', 'ACGA', 'CGAA', 'GAAG', 'AAGG', 'AGGG', 'GGGA', 'GGAG', 'GAGG', 'AGGT', 'GGTA', 'GTAG', 'TAGG', 'AGGA', 'GGAA', 'GAAT', 'AATG', 'ATGC', 'TGCA', 'GCAC', 'CACG', 'ACGC', 'CGCA', 'GCAG', 'CAGG', 'AGGC', 'GGCA', 'GCAT', 'CATT', 'ATTG', 'TTGA', 'TGAT', 'GATT', 'ATTT', 'TTTA', 'TTAT', 'TATT', 'ATTA', 'TTAA', 'TAAC', 'AACT', 'ACTG', 'CTGA', 'TGAC', 'GACT', 'ACTT', 'CTTA', 'TTAC', 'TACT', 'ACTA', 'CTAA', 'TAAG', 'AAGT', 'AGTG', 'GTGA', 'TGAG', 'GAGT', 'AGTT', 'GTTA', 'TTAG', 'TAGT', 'AGTA', 'GTAA', 'TAAT', 'AATT', 'ATTC', 'TTCA', 'TCAC', 'CACT', 'ACTC', 'CTCA', 'TCAG', 'CAGT', 'AGTC', 'GTCA', 'TCAT']\n",
      "pathString length =  260\n",
      "ACAAAACACAGAGATATAGAAAGACATAAATACATCGATCTATCAACCGGGGTTTTGTTGGTGTGGGCGGTCGGCCGTGCGTTCGTCCGACCTGGCTGTCTGCCTTGCTTTCTTCCTACCAAGCGAGCTAGCAATCCACCCCGCGCTCTCGCCCTCCCAGCCATGGATGTATGAACGGACGTACGAAGGGAGGTAGGAATGCACGCAGGCATTGATTTATTAACTGACTTACTAAGTGAGTTAGTAATTCACTCAGTCAT\n"
     ]
    }
   ],
   "source": [
    "# This cell is provided for work on problem 1. It will not be graded.\n",
    "poss = []\n",
    "for number in itertools.product((\"A\", \"C\", \"G\", \"T\"), repeat = 4):\n",
    "    poss.append(''.join(number))\n",
    "poss.append(\"ACAT\")\n",
    "\n",
    "nodes = sorted(set([code[:-1] for code in poss] + [code[1:] for code in poss]))\n",
    "G2 = Graph(nodes)\n",
    "\n",
    "for code in poss:\n",
    "   # Here I give each edge a label\n",
    "   G2.addEdge(code[:-1],code[1:],code)\n",
    "\n",
    "%timeit G2.eulerianPath()\n",
    "path = G2.eulerianPath()\n",
    "print(\"nodes: \", nodes)\n",
    "print(\"path: \", path)\n",
    "edges = G2.eulerEdges(path)\n",
    "print(\"edges: \", edges)\n",
    "pathString = edges[0] + ''.join([edges[i][-1] for i in range(1,len(edges))])\n",
    "print(\"pathString length = \", len(pathString))\n",
    "print(pathString)"
   ]
  },
  {
   "cell_type": "raw",
   "metadata": {
    "number": 1,
    "section": "answer"
   },
   "source": [
    "# THIS CELL WILL BE GRADED.\n",
    "# Your DNA string should be presented without any intervening spaces or other characters between bases.\n",
    "Minimal DNA string without \"ACAT\": CATATAAAACCCCGGGGTTTTGTTGGTGTGGGCGGTCGGCCGTGCGTTCGTCCGCGCTCTCGCCCTGGCTGTCTGCCTTGCTTTCTTCCTCCCACCGACCTACCAACGCACGGACGTACGAACTCACTGACTTACTAACAAAGCCAGCGAGCTAGCAAGGCAGGGAGGTAGGAAGTCAGTGAGTTAGTAAGAGATAGAAATCCATCGATCTATCAATGCATGGATGTATGAATTCATTGATTTATTAATACACAGACA\n",
    "\n",
    "What is the length of your string: 258\n",
    "How long is the minimal DNA string that includes \"ACAT\" twice and all other 4-mers once: 260"
   ]
  },
  {
   "cell_type": "markdown",
   "metadata": {
    "number": 2,
    "section": "problem"
   },
   "source": [
    "**Problem #2:** A file of 31-mers simulating short reads from a genome can be <a href=\"http://csbio.unc.edu/mcmillan/Comp555S21/reads.fa\" download=\"reads.fa\">downloaded here</a>. How many distinct nodes appear in the De Bruijn graph that represents these 31-mers as edges? How many nodes are semi-balenced? How many nodes are balanced? How many are balanced with both in-degrees and out-degrees equal to 1?"
   ]
  },
  {
   "cell_type": "code",
   "execution_count": 6,
   "metadata": {
    "number": 2,
    "section": "workcode"
   },
   "outputs": [
    {
     "name": "stdout",
     "output_type": "stream",
     "text": [
      "nodes length:  19963\n"
     ]
    }
   ],
   "source": [
    "# This cell is provided for your own use in answering problem 2. It will not be graded.\n",
    "hdr, seq = loadFasta(\"data/reads.fa\")\n",
    "\n",
    "nodes = sorted(set([code[1:-1] for code in seq] + [code[2:] for code in seq]))\n",
    "G3 = Graph(nodes)\n",
    "\n",
    "for code in seq:\n",
    "   # Here I give each edge a label\n",
    "   G3.addEdge(code[1:-1],code[2:],code)\n",
    "\n",
    "print(\"nodes length: \", len(nodes))\n",
    "inDeg, outDeg = G3.degrees()"
   ]
  },
  {
   "cell_type": "code",
   "execution_count": 7,
   "metadata": {},
   "outputs": [
    {
     "name": "stdout",
     "output_type": "stream",
     "text": [
      "19963\n"
     ]
    }
   ],
   "source": [
    "#distinct nodes\n",
    "distinct = {}\n",
    "for x in nodes:\n",
    "    if (distinct.get(x) is None):\n",
    "        distinct[x] = 1\n",
    "\n",
    "print(len(distinct))"
   ]
  },
  {
   "cell_type": "code",
   "execution_count": 8,
   "metadata": {},
   "outputs": [
    {
     "name": "stdout",
     "output_type": "stream",
     "text": [
      "19962\n",
      "19962\n",
      "semi-balanced:  2\n",
      "balanced:  19961\n",
      "balanced with degrees equal 1:  19953\n"
     ]
    }
   ],
   "source": [
    "# sort through nodes\n",
    "semiBal = []\n",
    "bal = []\n",
    "balOne = []\n",
    "\n",
    "print(len(inDeg))\n",
    "print(len(outDeg))\n",
    "for i in range(len(nodes)):\n",
    "    nodeIn = inDeg.get(i)\n",
    "    nodeOut = outDeg.get(i)\n",
    "    if (nodeIn is None):\n",
    "        nodeIn = 0\n",
    "    if (nodeOut is None):\n",
    "        nodeOut = 0\n",
    "\n",
    "    if (nodeIn == nodeOut):\n",
    "        bal.append(i)\n",
    "        if (nodeIn == 1):\n",
    "            balOne.append(i)\n",
    "    elif (abs(nodeIn - nodeOut) == 1):\n",
    "        semiBal.append(i)\n",
    "    \n",
    "print(\"semi-balanced: \", len(semiBal))\n",
    "print(\"balanced: \", len(bal))\n",
    "print(\"balanced with degrees equal 1: \", len(balOne))"
   ]
  },
  {
   "cell_type": "raw",
   "metadata": {
    "number": 2,
    "section": "answer"
   },
   "source": [
    "# Enter your answers here.\n",
    "# THIS CELL WILL BE GRADED.\n",
    "Distinct nodes: 19963\n",
    "Balanced nodes: 19961\n",
    "Balanced nodes with indegree and outdegree == 1: 19953\n",
    "Semi-balanced nodes: 2"
   ]
  },
  {
   "cell_type": "markdown",
   "metadata": {
    "number": 3,
    "section": "problem"
   },
   "source": [
    "**Problem #3:** What is the length of the Eulerian path that can be constructed in the De Bruijn graph described in Problem #2? It should be an assembled contig from the genome <a href=\"http://csbio.unc.edu/mcmillan/Comp555S21/data/Chromo.fa\" download=\"Chromo.fa\">Chromo.fa</a>. How long did it take to assemble it using Jupyter %time? Find the starting position of this assembled sequence in that genome."
   ]
  },
  {
   "cell_type": "code",
   "execution_count": 9,
   "metadata": {
    "number": 3,
    "section": "workcode"
   },
   "outputs": [
    {
     "name": "stdout",
     "output_type": "stream",
     "text": [
      "15.6 s ± 556 ms per loop (mean ± std. dev. of 7 runs, 1 loop each)\n",
      "20001\n"
     ]
    }
   ],
   "source": [
    "# This cell is provided for your own use in answering problem 3. It will not be graded.\n",
    "# this uses read.fa, not Chromo\n",
    "%timeit G3.eulerianPath()\n",
    "path = G3.eulerianPath()\n",
    "edges = G3.eulerEdges(path)\n",
    "pathString = edges[0] + ''.join([edges[i][-1] for i in range(1,len(edges))])\n",
    "\n",
    "hdr, seq = loadFasta(\"data/Chromo.fa\")"
   ]
  },
  {
   "cell_type": "code",
   "execution_count": 11,
   "metadata": {},
   "outputs": [
    {
     "name": "stdout",
     "output_type": "stream",
     "text": [
      "19971\n",
      "56800000\n"
     ]
    }
   ],
   "source": [
    "print(len(path))\n",
    "print(seq[0].index(pathString[1:]))"
   ]
  },
  {
   "cell_type": "raw",
   "metadata": {
    "number": 3,
    "section": "answer"
   },
   "source": [
    "# Enter your answers here.\n",
    "# THIS CELL WILL BE GRADED.\n",
    "Length of path in nodes: 19971\n",
    "Time to find path (you can ignore the time required to covert this path to a sequence): 15.6 secs\n",
    "Starting position of assembled contig in Chromo.fa: 56800000"
   ]
  },
  {
   "cell_type": "markdown",
   "metadata": {
    "number": 4,
    "section": "problem"
   },
   "source": [
    "**Problem #4:** Construct a suffix array of the substring from <a href=\"http://csbio.unc.edu/mcmillan/Comp555S21/Chromo.fa\" download=\"Chromo.fa\">Chromo.fa</a> from positions 30000000 to 30050000 with a '$' appended. Use it to find all the positions of the substring \"ATGCAT\" within this substring (include the offset of 30000000), and their interval within the suffix array. How many times does \"CAT\" appear in the specified substring?"
   ]
  },
  {
   "cell_type": "code",
   "execution_count": 32,
   "metadata": {
    "number": 4,
    "section": "workcode"
   },
   "outputs": [
    {
     "name": "stdout",
     "output_type": "stream",
     "text": [
      "ATGCAT\n",
      "13657 13666\n",
      "30048108: ATGCATAA\n",
      "30009927: ATGCATAC\n",
      "30025162: ATGCATGG\n",
      "30031223: ATGCATGG\n",
      "30024494: ATGCATGT\n",
      "30022117: ATGCATTA\n",
      "30013403: ATGCATTG\n",
      "30031774: ATGCATTG\n",
      "30039059: ATGCATTT\n",
      "9 times\n",
      "\n",
      "CAT\n",
      "18221 19243\n",
      "1022 times\n"
     ]
    }
   ],
   "source": [
    "# This cell is provided for your own use in answering problem 4. It will not be graded.\n",
    "# suffixArray() from lecture 11\n",
    "def suffixArray(string):\n",
    "    return sorted(range(len(string)), key=lambda x: string[x:])\n",
    "\n",
    "def findFirst(pattern, text, suffixarray):\n",
    "    lo, hi = 0, len(text)\n",
    "    while (lo < hi):\n",
    "        middle = (lo+hi)//2\n",
    "        if text[suffixarray[middle]:] < pattern:\n",
    "            lo = middle + 1\n",
    "        else:\n",
    "            hi = middle\n",
    "    return lo\n",
    "\n",
    "# remember that last returns the position after the last location because it is non-inclusive\n",
    "def findLast(pattern, text, suffixarray):\n",
    "    lo, hi = 0, len(text)\n",
    "    while (lo < hi):\n",
    "        middle = (lo+hi)//2\n",
    "        if text[suffixarray[middle]:suffixarray[middle]+len(pattern)] <= pattern:\n",
    "            lo = middle + 1\n",
    "        else:\n",
    "            hi = middle\n",
    "    return lo\n",
    "\n",
    "text = seq[0][30000000:30050000] + '$'\n",
    "sa = suffixArray(text)\n",
    "first = findFirst(\"ATGCAT\", text, sa)\n",
    "last = findLast(\"ATGCAT\", text, sa)\n",
    "print(\"ATGCAT\")\n",
    "print(first, last)\n",
    "for suffix in sa[first:last]: \n",
    "    print(\"%3d: %s\" % ((suffix+30000000), text[suffix:suffix+8]))\n",
    "print(last - first, \"times\")\n",
    "\n",
    "#\"CAT\"\n",
    "first = findFirst(\"CAT\", text, sa)\n",
    "last = findLast(\"CAT\", text, sa)\n",
    "print()\n",
    "print(\"CAT\")\n",
    "print(first, last)\n",
    "print(last - first, \"times\")\n"
   ]
  },
  {
   "cell_type": "raw",
   "metadata": {
    "number": 4,
    "section": "answer"
   },
   "source": [
    "# Enter your answers here.\n",
    "# THIS CELL WILL BE GRADED. \n",
    "List positions within the specified substring where \"ATGCAT\" appears: [48108, 9927, 25162, 31223, 24494, 22117, 13403, 31774, 39059]\n",
    "Give the interval of the suffix array that references suffixes that begin with \"ATGCAT\": [13657, 13666]\n",
    "Give how many times \"CAT\" appears in the substring: 1022"
   ]
  },
  {
   "cell_type": "markdown",
   "metadata": {
    "number": 5,
    "section": "problem"
   },
   "source": [
    "**Problem #5:** Use your suffix array from Problem #4 to construct a BWT of the given 50,000 bp fragment. Once the BWT is found encode any run of more than 1 base as an integer followed by the base. What is the total length of this compressed BWT? What is the average run-length of 'A', 'C', 'G' and 'T' nucleotides?  "
   ]
  },
  {
   "cell_type": "code",
   "execution_count": 36,
   "metadata": {
    "number": 5,
    "section": "workcode"
   },
   "outputs": [
    {
     "name": "stdout",
     "output_type": "stream",
     "text": [
      "45510\n",
      "A:  1.4971880659613002\n",
      "C:  1.2900836647922096\n",
      "G:  1.2484743963916158\n",
      "T:  1.4870760065340636\n"
     ]
    }
   ],
   "source": [
    "# This cell is provided for your own use in answering problem 5. It will not be graded.\n",
    "def BWTfromSuffixArray(text, suffixarray):\n",
    "    return ''.join(text[i-1] for i in suffixarray)\n",
    "\n",
    "def compress(text):\n",
    "    c = \"\"\n",
    "    i = 0\n",
    "    while i < len(text):\n",
    "        if ((i+1) >= len(text)):\n",
    "            c = c + text[i]\n",
    "            i += 1\n",
    "        elif (text[i+1] != text[i]):\n",
    "            c = c + text[i]\n",
    "            i += 1\n",
    "        else:\n",
    "            count = 1\n",
    "            while (text[i+count] == text[i]):\n",
    "                count+=1\n",
    "            c = c + \"%s\" % count + text[i]\n",
    "            i = i + count\n",
    "    return c\n",
    "\n",
    "def runLength(text, char):\n",
    "    num = ''\n",
    "    total = 0\n",
    "    count = 0\n",
    "    x = 0\n",
    "    while x < len(text):\n",
    "        while text[x].isdigit():\n",
    "            num += text[x]\n",
    "            x += 1\n",
    "    \n",
    "        if(text[x] != char):\n",
    "            num = ''\n",
    "        elif text[x] == char:\n",
    "            if(num == ''):\n",
    "                total += 1\n",
    "            else:\n",
    "                numInt = int(num)\n",
    "                total += numInt\n",
    "            count += 1\n",
    "        x += 1 \n",
    "    # print(total)\n",
    "    # print(count)\n",
    "    return (total/count)     \n",
    "\n",
    "# testCompress = compress(\"amnnn$lcpmnapaaaaaaala\")\n",
    "# print(testCompress)\n",
    "# print(runLength(testCompress, 'a'))\n",
    "\n",
    "bwt = BWTfromSuffixArray(text, sa)\n",
    "compressBwt = compress(bwt)\n",
    "print(len(compressBwt))\n",
    "print(\"A: \", runLength(compressBwt, 'A'))\n",
    "print(\"C: \", runLength(compressBwt, 'C'))\n",
    "print(\"G: \", runLength(compressBwt, 'G'))\n",
    "print(\"T: \", runLength(compressBwt, 'T'))\n"
   ]
  },
  {
   "cell_type": "raw",
   "metadata": {
    "number": 5,
    "section": "answer"
   },
   "source": [
    "# Enter your answers here.\n",
    "# THIS CELL WILL BE GRADED.\n",
    "Compressed length of BWT: 45510\n",
    "Average run-length of As in BWT: 1.4971880659613002\n",
    "Average run-length of Cs in BWT: 1.2900836647922096\n",
    "Average run-length of Gs in BWT: 1.2484743963916158\n",
    "Average run-length of Ts in BWT: 1.4870760065340636"
   ]
  },
  {
   "cell_type": "markdown",
   "metadata": {},
   "source": [
    "---\n",
    "\n",
    "## Instructions for submitting your problem set\n",
    "\n",
    "When you are ready to submit a version of your problem set, follow the instructions below.\n",
    "\n",
    "1. Press [Save and Checkpoint] on the *File* menu of your Jupyter notebook.\n",
    "2. Press the link below, which will take you to a website for submitting your problem set.\n",
    "3. Choose the ***correct problem set number*** from the pull-down, else you might overwrite an earlier submission.\n",
    "4. Enter in your onyen and PID in the form provided, then upload your submission.\n",
    "\n",
    "Click [here to submit](http://csbio.unc.edu/mcmillan/index.py?run=PS.upload) your completed problem set\n",
    "\n",
    "**Instructions for resubmissions:**\n",
    "\n",
    "1. You may resubmit as many times as you like before the deadline. \n",
    "2. Resubmissions *always* overwrite any earlier submissions. \n",
    "3. If you resubmit after the due date, you will be warned of any penalties. \n",
    "4. Problem sets will not be regraded."
   ]
  }
 ],
 "metadata": {
  "kernelspec": {
   "display_name": "Python 3",
   "language": "python",
   "name": "python3"
  },
  "language_info": {
   "codemirror_mode": {
    "name": "ipython",
    "version": 3
   },
   "file_extension": ".py",
   "mimetype": "text/x-python",
   "name": "python",
   "nbconvert_exporter": "python",
   "pygments_lexer": "ipython3",
   "version": "3.8.5"
  }
 },
 "nbformat": 4,
 "nbformat_minor": 1
}
