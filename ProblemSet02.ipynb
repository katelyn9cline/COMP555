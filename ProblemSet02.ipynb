{
 "cells": [
  {
   "cell_type": "markdown",
   "metadata": {
    "section": "header"
   },
   "source": [
    "<div style=\"text-align: center;\">\n",
    "<h1>The University of North Carolina at Chapel Hill</h1>\n",
    "<h1>Comp 555 BioAlgorithms - Spring 2020</h1>\n",
    "<h1 style=\"font-size: 250%;\">Problem Set #2 </h1>\n",
    "<h1>Issued Thursday, 2/11/2021; Due Thursday, 2/25/2021</h1>\n",
    "</div>\n",
    "\n",
    "**Homework Information:** Some of the problems are probably too long to be done the night before the due date, so plan accordingly. Late problem sets will be penalized by a factor of 70.71% for up to two class meetings after the due date. Feel free to get help from others, but **the work you submit in should be your own.**\n",
    "\n",
    "**Warning:** This notebook has been annotated with metadata so that it can be uploaded to the grading system. It is very important that you enter your answers in the provided cells. You can add extra cells to explore approaches, but only the provided cell can and will be graded. Thus, if you delete a cell and add a replacement, there is a possiblity that your problem will not be graded. If you ever need to start over, you should download a new version of the problem set and transfer your solutions to it."
   ]
  },
  {
   "cell_type": "code",
   "execution_count": 7,
   "metadata": {
    "section": "signature"
   },
   "outputs": [],
   "source": [
    "# Replace the following string values with the requested information\n",
    "class Student:\n",
    "    first = \"Katelyn\"\n",
    "    last = \"Cline\"\n",
    "    onyen = \"katelyn9\"\n",
    "    pid = \"730152239\""
   ]
  },
  {
   "cell_type": "markdown",
   "metadata": {
    "section": "setup"
   },
   "source": [
    "You will need a the following sequence collection of gene promoter regions in which you will search for <a href=\"http://csbio.unc.edu/mcmillan/Comp555S21/motifs.fa\" download=\"motifs.fa\">transcription binding factor motifs</a>.\n",
    "\n",
    "The cell below provides all functions and imports necessary for this problem set. Do not import any addtional packages. Also, make sure that you ***run the following cell***."
   ]
  },
  {
   "cell_type": "code",
   "execution_count": 8,
   "metadata": {
    "section": "givencode"
   },
   "outputs": [],
   "source": [
    "import itertools\n",
    "import math\n",
    "%matplotlib inline\n",
    "import matplotlib\n",
    "import matplotlib.pyplot as plt\n",
    "\n",
    "def loadFasta(filename):\n",
    "    \"\"\" Parses a classically formatted and possibly \n",
    "        compressed FASTA file into two lists. One of \n",
    "        headers and a second list of sequences.\n",
    "        The ith index of each list correspond.\"\"\"\n",
    "    if (filename.endswith(\".gz\")):\n",
    "        fp = gzip.open(filename, 'r')\n",
    "    else:\n",
    "        fp = open(filename, 'r')\n",
    "    # split at headers\n",
    "    data = fp.read().split('>')\n",
    "    fp.close()\n",
    "    # ignore whatever appears before the 1st header\n",
    "    data.pop(0)     \n",
    "    headers = []\n",
    "    sequences = []\n",
    "    for sequence in data:\n",
    "        lines = sequence.split('\\n')\n",
    "        headers.append(lines.pop(0))\n",
    "        # add an extra \"+\" to make string \"1-referenced\"\n",
    "        sequences.append('+' + ''.join(lines))\n",
    "    return (headers, sequences)\n",
    "\n",
    "def ScanAndScoreMotif(DNA, motif):\n",
    "    totalDist = 0\n",
    "    bestAlignment = []\n",
    "    k = len(motif)\n",
    "    for seq in DNA:\n",
    "        minHammingDist = k+1\n",
    "        for s in range(len(seq)-k+1):\n",
    "            HammingDist = sum([1 for i in range(k) if motif[i] != seq[s+i]])\n",
    "            if (HammingDist < minHammingDist):\n",
    "                bestS = s\n",
    "                minHammingDist = HammingDist\n",
    "        bestAlignment.append(bestS)\n",
    "        totalDist += minHammingDist\n",
    "    return bestAlignment, totalDist\n",
    "\n",
    "def MedianStringMotifSearch(DNA,k):\n",
    "    \"\"\" Consider all possible 4**k motifs\"\"\"\n",
    "    bestAlignment = []\n",
    "    minHammingDist = k*len(DNA)\n",
    "    kmer = ''\n",
    "    for pattern in itertools.product('ACGT', repeat=k):\n",
    "        motif = ''.join(pattern)\n",
    "        align, dist = ScanAndScoreMotif(DNA, motif)\n",
    "        if (dist < minHammingDist):\n",
    "            bestAlignment = [p for p in align]\n",
    "            minHammingDist = dist\n",
    "            kmer = motif\n",
    "    return bestAlignment, minHammingDist, kmer\n",
    "\n",
    "def ContainedMotifSearch(DNA,k):\n",
    "    \"\"\" Consider only motifs from the given DNA sequences\"\"\"\n",
    "    motifSet = set()\n",
    "    for seq in DNA:\n",
    "        for i in range(len(seq)-k+1):\n",
    "            motifSet.add(seq[i:i+k])\n",
    "    print(\"%d Motifs in our set\" % len(motifSet))\n",
    "    bestAlignment = []\n",
    "    minHammingDist = k*len(DNA)\n",
    "    kmer = ''\n",
    "    for motif in motifSet:\n",
    "        align, dist = ScanAndScoreMotif(DNA, motif)\n",
    "        if (dist < minHammingDist):\n",
    "            bestAlignment = [s for s in align]\n",
    "            minHammingDist = dist\n",
    "            kmer = motif\n",
    "    return bestAlignment, minHammingDist, kmer"
   ]
  },
  {
   "cell_type": "markdown",
   "metadata": {
    "number": 1,
    "section": "problem"
   },
   "source": [
    "---\n",
    "**Problem #1:** In the cell below use the given *MedianStringMotifSearch()*, and *ScanAndScoreMotif()* functions to find an optimal 10-base motif pattern and its location in each of the 7 given promoter regions in <a href=\"http://csbio.unc.edu/mcmillan/Comp555S21/motifs.fa\" download=\"motifs.fa\">motifs.fa</a>. Based on this result, make a prediction of how long it would have taken to find an optimal 12-base motif (Hint: This will take some time)."
   ]
  },
  {
   "cell_type": "code",
   "execution_count": 6,
   "metadata": {
    "number": 1,
    "section": "workcode"
   },
   "outputs": [
    {
     "name": "stdout",
     "output_type": "stream",
     "text": [
      "Wall time: 3h 32min 39s\n"
     ]
    },
    {
     "data": {
      "text/plain": [
       "([874, 73, 113, 370, 5, 71, 189], 9, 'AGCCTGGGCA')"
      ]
     },
     "execution_count": 6,
     "metadata": {},
     "output_type": "execute_result"
    }
   ],
   "source": [
    "# Read in the motifs.fa FASTA file and use its sequence \n",
    "# list as \"dna\" and run the given code fragment.\n",
    "hdr, seq = loadFasta(\"data/motifs.fa\")\n",
    "dna = [s[1:] for s in seq]\n",
    "#print(dna)\n",
    "\n",
    "%time MedianStringMotifSearch(dna,10) "
   ]
  },
  {
   "cell_type": "raw",
   "metadata": {
    "number": 1,
    "section": "answer"
   },
   "source": [
    "# THIS CELL WILL BE GRADED. \n",
    "Paste below the output from the cell above: \n",
    "Wall time: 3h 32min 39s\n",
    "([874, 73, 113, 370, 5, 71, 189], 9, 'AGCCTGGGCA')\n",
    "\n",
    "What is your prediction of how long it would take to find a 12-base motif:\n",
    "Based on how long it took on my machine, I predict it would take about 57 hours. I set up a proportion such that 4^10 divided by 213 mins (213 mins = 3 hours and 33 mins) is equal to 4^12 divided by X mins. I solved for X and got 3408 mins which is about equal to 57 hours."
   ]
  },
  {
   "cell_type": "markdown",
   "metadata": {
    "number": 2,
    "section": "problem"
   },
   "source": [
    "---\n",
    "**Problem #2:** Given the optimal 10-base motif from **Problem #1** find an upper bound on the minHammingDist for the optimal 12-base motif. Explain how you arrived at your answer."
   ]
  },
  {
   "cell_type": "raw",
   "metadata": {
    "number": 2,
    "section": "answer"
   },
   "source": [
    "# THIS CELL WILL BE GRADED. \n",
    "What is the largest possible minHammingDist for a 12-base motif given the best 10-base motif: 19\n",
    "Explain your answer: If we maintain motifs with 7 sequences, then we can calculate the maximum amount of disagreement for one base. If we create an even distribution of bases for the 7 sequences, then the maximum amount of disagreement is 5. For example, if we have AATTCCG, 2 becomes the highest score we can get and there are 5 other bases that disagree. Based on question 1, the minimum hamming distance is 9 for a 10 base motif. Adding one more base, so we have an 11-base motif, we add 5 to 9 and get 14. If we add another base, so we have a 12-base motif which is the base length in question, we add 5  more to 14 for a total of 19. "
   ]
  },
  {
   "cell_type": "markdown",
   "metadata": {
    "number": 3,
    "section": "problem"
   },
   "source": [
    "---\n",
    "**Problem #3:** A simple optimization can be applied to *MedianStringMotifSearch()* as follows: If ever during the *ScanAndScoreMotif()* function the Hamming distance (i.e. *totalDist* in *ScanAndScoreMotif()*) exceeds the smallest Hamming distance seen thus far (*minHammingDist* in *MedianStringMotifSearch()*), scanning through subsequent sequences can be terminated early. Implement this strategy and use it to search again for the best 10-base motif. (Note: this requires that you add an additional *maxTotal* argument to the *ScanAndScoreMotif()*. You will need to modify both *MedianStringMotifSearch()* and *ScanAndScoreMotif()*). Run your new optimized version and report its run time. Revise your estimate of how how long it might take to find an optimal 12-base motif."
   ]
  },
  {
   "cell_type": "code",
   "execution_count": 3,
   "metadata": {
    "number": 3,
    "section": "workcode"
   },
   "outputs": [],
   "source": [
    "# Modify MedianStringMotifSearch() and call it BetterMedianStringMotifSearch().\n",
    "# You will also need to modify ScanAndScoreMotif().\n",
    "# Write these functions in this cell and run them using the following code fragment.\n",
    "\n",
    "def ScanAndScoreMotif(DNA, motif, maxTotal):\n",
    "    # Your code here\n",
    "    totalDist = 0\n",
    "    bestAlignment = []\n",
    "    k = len(motif)\n",
    "    for seq in DNA:\n",
    "        minHammingDist = k+1\n",
    "        for s in range(len(seq)-k+1):\n",
    "            HammingDist = sum([1 for i in range(k) if motif[i] != seq[s+i]])\n",
    "            #this is the new bit\n",
    "            # if the new hamming dist you just found is greater than the previously found min hamming dist\n",
    "                #then you can return because the rest is irrelevant\n",
    "            if (HammingDist > maxTotal):\n",
    "                return bestAlignment, HammingDist\n",
    "            if (HammingDist < minHammingDist):\n",
    "                bestS = s\n",
    "                minHammingDist = HammingDist\n",
    "        bestAlignment.append(bestS)\n",
    "        totalDist += minHammingDist\n",
    "    return bestAlignment, totalDist\n",
    "\n",
    "def BetterMedianStringMotifSearch(DNA,k):\n",
    "    # Your code here\n",
    "    \"\"\" Consider all possible 4**k motifs\"\"\"\n",
    "    bestAlignment = []\n",
    "    minHammingDist = k*len(DNA)\n",
    "    kmer = ''\n",
    "    for pattern in itertools.product('ACGT', repeat=k):\n",
    "        motif = ''.join(pattern)\n",
    "        align, dist = ScanAndScoreMotif(DNA, motif, minHammingDist)\n",
    "        if (dist < minHammingDist):\n",
    "            bestAlignment = [p for p in align]\n",
    "            minHammingDist = dist\n",
    "            kmer = motif\n",
    "    return bestAlignment, minHammingDist, kmer\n",
    "\n",
    "#%time BetterMedianStringMotifSearch(dna,10)"
   ]
  },
  {
   "cell_type": "markdown",
   "metadata": {},
   "source": [
    "The following cell below is provided for testing your code. You should test it on <a href=\"http://csbio.unc.edu/mcmillan/Comp555S21/motifs.fa\" download=\"motifs.txt\">motifs.fa</a>. This cell will not be considered during grading."
   ]
  },
  {
   "cell_type": "code",
   "execution_count": 6,
   "metadata": {
    "number": 3,
    "section": "testcode"
   },
   "outputs": [
    {
     "name": "stdout",
     "output_type": "stream",
     "text": [
      "Wall time: 27min\n"
     ]
    },
    {
     "data": {
      "text/plain": [
       "([874, 73, 113, 370, 5, 71, 189], 9, 'AGCCTGGGCA')"
      ]
     },
     "execution_count": 6,
     "metadata": {},
     "output_type": "execute_result"
    }
   ],
   "source": [
    "hdr, seq = loadFasta(\"data/motifs.fa\")\n",
    "dna = [s[1:] for s in seq]\n",
    "\n",
    "%time BetterMedianStringMotifSearch(dna,10)"
   ]
  },
  {
   "cell_type": "raw",
   "metadata": {
    "collapsed": true,
    "number": 3,
    "section": "answer"
   },
   "source": [
    "# THIS CELL WILL BE GRADED\n",
    "Paste below the output from the %time statement above: \n",
    "Wall time: 27min\n",
    "([874, 73, 113, 370, 5, 71, 189], 9, 'AGCCTGGGCA')\n",
    "\n",
    "What is your revised prediction of how long it would take to find a 12-base motif:\n",
    "Using the same proportion set-up I used in question 1, I predict it would take about 432 mins which is equal to about 7 hours. This is a considerable improvement from the 57 hours we saw in question 1."
   ]
  },
  {
   "cell_type": "markdown",
   "metadata": {
    "number": 4,
    "section": "problem"
   },
   "source": [
    "**Problem #4:** Your upper-bound minHammingDist estimate from **Problem #2** can be used to further accelerate *MedianStringMotifSearch()* as follows. It can be used as the intitial setting of the minHammingDist rather than setting it to <code>k*len(DNA)</code> in addition to the changes made in **Problem #3**.  \n",
    "\n",
    "In the cell provided below write *EvenBetterMedianMotifSearch(DNA,k,minHammingDist)*. Where the extra argument is used to set your upper-bound prediction."
   ]
  },
  {
   "cell_type": "code",
   "execution_count": 4,
   "metadata": {
    "number": 4,
    "section": "answer"
   },
   "outputs": [],
   "source": [
    "# THIS CELL WILL BE GRADED\n",
    "# This cell should include *ALL* functions called by EvenBetterMedianMotifSearch(),\n",
    "# such as the modified ScanAndScoreMotif() from an earlier question.\n",
    "# Any test or validation code should be placed in another cell \n",
    "\n",
    "def ScanAndScoreMotif(DNA, motif, maxTotal):\n",
    "    # Your code here\n",
    "    totalDist = 0\n",
    "    bestAlignment = []\n",
    "    k = len(motif)\n",
    "    for seq in DNA:\n",
    "        minHammingDist = k+1\n",
    "        for s in range(len(seq)-k+1):\n",
    "            HammingDist = sum([1 for i in range(k) if motif[i] != seq[s+i]])\n",
    "            if (HammingDist > maxTotal):\n",
    "                return bestAlignment, HammingDist\n",
    "            if (HammingDist < minHammingDist):\n",
    "                bestS = s\n",
    "                minHammingDist = HammingDist\n",
    "        bestAlignment.append(bestS)\n",
    "        totalDist += minHammingDist\n",
    "    return bestAlignment, totalDist\n",
    "\n",
    "def EvenBetterMedianMotifSearch(DNA,k,minHammingDist):\n",
    "    bestAlignment = []\n",
    "    kmer = ''\n",
    "    # Add your code here\n",
    "    for pattern in itertools.product('ACGT', repeat=k):\n",
    "        motif = ''.join(pattern)\n",
    "        align, dist = ScanAndScoreMotif(DNA, motif, minHammingDist)\n",
    "        if (dist < minHammingDist):\n",
    "            bestAlignment = [p for p in align]\n",
    "            minHammingDist = dist\n",
    "            kmer = motif\n",
    "    return bestAlignment, minHammingDist, kmer"
   ]
  },
  {
   "cell_type": "code",
   "execution_count": 5,
   "metadata": {
    "number": 4,
    "section": "workcode"
   },
   "outputs": [
    {
     "name": "stdout",
     "output_type": "stream",
     "text": [
      "Wall time: 23min 38s\n"
     ]
    },
    {
     "data": {
      "text/plain": [
       "([874, 73, 113, 370, 5, 71, 189], 9, 'AGCCTGGGCA')"
      ]
     },
     "execution_count": 5,
     "metadata": {},
     "output_type": "execute_result"
    }
   ],
   "source": [
    "# This cell is provided for testing your answer to problem 4. It will not be graded.\n",
    "hdr, seq = loadFasta(\"data/motifs.fa\")\n",
    "dna = [s[1:] for s in seq]\n",
    "%time EvenBetterMedianMotifSearch(dna, 10, 19)"
   ]
  },
  {
   "cell_type": "markdown",
   "metadata": {
    "number": 5,
    "section": "problem"
   },
   "source": [
    "**Problem #5:** The cost of generating the upper-bound estimate in **Problem 2** was considerable. An alternative upper-bound can be found by running *ContainedMotifSearch()*, which considers only k-mers that appear in the given sequences as possible motifs. Use *ContainedMotifSearch()* with *k = 12* to establish an alternative upper bound. Which of these, (the one estimated in **Problem #2:**, or the one implied by *ContainedMotifSearch()* is tighter?"
   ]
  },
  {
   "cell_type": "code",
   "execution_count": 10,
   "metadata": {},
   "outputs": [
    {
     "name": "stdout",
     "output_type": "stream",
     "text": [
      "3507 Motifs in our set\n",
      "Wall time: 35.3 s\n"
     ]
    },
    {
     "data": {
      "text/plain": [
       "([331, 71, 159, 368, 121, 69, 163], 15, 'TGAGCCTGGGCA')"
      ]
     },
     "execution_count": 10,
     "metadata": {},
     "output_type": "execute_result"
    }
   ],
   "source": [
    "hdr, seq = loadFasta(\"data/motifs.fa\")\n",
    "dna = [s[1:] for s in seq]\n",
    "%time ContainedMotifSearch(dna, 12)"
   ]
  },
  {
   "cell_type": "raw",
   "metadata": {
    "collapsed": true,
    "number": 5,
    "section": "answer"
   },
   "source": [
    "# THIS CELL WILL BE GRADED.\n",
    "What upper bound on minHammingDist is implied by running ContainedMotifSearch(): 15\n",
    "Which of the two upper bounds that you have considered is tighter? 15 is less than 19 so the upper bound from ContainedMotifSearch() is tighter."
   ]
  },
  {
   "cell_type": "markdown",
   "metadata": {
    "section": "submit"
   },
   "source": [
    "---\n",
    "\n",
    "## Instructions for submitting your problem set\n",
    "\n",
    "When you are ready to submit a version of your problem set, follow the instructions below.\n",
    "\n",
    "1. Press [Save and Checkpoint] on the *File* menu of your Jupyter notebook.\n",
    "2. Press the link below, which will take you to a website for submitting your problem set.\n",
    "3. Choose the ***correct problem set number*** from the pull-down, else you might overwrite an earlier submission.\n",
    "4. Enter in your onyen and PID in the form provided, then upload your submission.\n",
    "\n",
    "Click [here to submit](http://csbio.unc.edu/mcmillan/index.py?run=PS.upload) your completed problem set\n",
    "\n",
    "**Instructions for resubmissions:**\n",
    "\n",
    "1. You may resubmit as many times as you like before the deadline. \n",
    "2. Resubmissions *always* overwrite any earlier submissions. \n",
    "3. If you resubmit after the due date, you will be warned of any penalties. \n",
    "4. Problem sets will not be regraded."
   ]
  }
 ],
 "metadata": {
  "kernelspec": {
   "display_name": "Python 3",
   "language": "python",
   "name": "python3"
  },
  "language_info": {
   "codemirror_mode": {
    "name": "ipython",
    "version": 3
   },
   "file_extension": ".py",
   "mimetype": "text/x-python",
   "name": "python",
   "nbconvert_exporter": "python",
   "pygments_lexer": "ipython3",
   "version": "3.8.5"
  }
 },
 "nbformat": 4,
 "nbformat_minor": 1
}
