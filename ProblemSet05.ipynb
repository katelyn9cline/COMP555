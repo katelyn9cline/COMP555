{
 "cells": [
  {
   "cell_type": "markdown",
   "metadata": {
    "section": "header"
   },
   "source": [
    "---\n",
    "<div style=\"text-align: center;\">\n",
    "<h1>The University of North Carolina at Chapel Hill</h1>\n",
    "<h1>Comp 555 BioAlgorithms - Spring 2021</h1>\n",
    "<h1 style=\"font-size: 250%;\">Problem Set #5</h1>\n",
    "<h1>Issued Tuesday, 4/8/2021; Due Tuesday, 4/22/2021</h1>\n",
    "</div>\n",
    "\n",
    "**Homework Information:** Some of the problems are probably too long to be done the night before the due date, so plan accordingly. Feel free to get help from others, but **the work you submit in should be your own.**\n",
    "\n",
    "**Warning:** This notebook has been annotated with metadata so that it can be uploaded to the grading system. It is very important that you enter your answers in the provided cells. You can add extra cells to explore approaches, but only the provided cell can and will be graded. Thus, if you delete a cell and add a replacement, there is a possiblity that your problem will not be graded. If you ever need to start over, you should download a new version of the problem set and transfer your solutions to it."
   ]
  },
  {
   "cell_type": "code",
   "execution_count": 1,
   "metadata": {
    "section": "signature"
   },
   "outputs": [],
   "source": [
    "# Replace the following string values with the requested information\n",
    "class Student:\n",
    "    first = \"Katelyn\"\n",
    "    last = \"Cline\"\n",
    "    onyen = \"katelyn9\"\n",
    "    pid = \"730152239\""
   ]
  },
  {
   "cell_type": "markdown",
   "metadata": {
    "number": 1,
    "section": "problem"
   },
   "source": [
    "---\n",
    "**Problem #1:** Consider the table of integer molecular weights for amino acid residues that we have used in class shown below.\n",
    "\n",
    "        Daltons = { \n",
    "            'A':  71, 'C': 103, 'D': 115, 'E': 129,\n",
    "            'F': 147, 'G':  57, 'H': 137, 'I': 113,\n",
    "            'K': 128, 'L': 113, 'M': 131, 'N': 114,\n",
    "            'P':  97, 'Q': 128, 'R': 156, 'S':  87,\n",
    "            'T': 101, 'V':  99, 'W': 186, 'Y': 163 \n",
    "        }\n",
    "\n",
    "Which peptide *combinations* have a total molecular weight of 407? A *combination* means that the order of the peptides is unimportant (i.e. \"LMY\" is the same combination as any of \"LYM\", \"MLY\", \"MYL\", \"YLM\", and \"YML\"). When reporting your answer you should lexigraphically sort the resides within each combination (\"LMY\" is the sorted version of the previous example). Furthermore, the list of combinations should also be lexigraphically sorted (The python sorted() method will do this for you)."
   ]
  },
  {
   "cell_type": "code",
   "execution_count": 18,
   "metadata": {},
   "outputs": [],
   "source": [
    "Daltons = { \n",
    "        'A':  71, 'C': 103, 'D': 115, 'E': 129,\n",
    "        'F': 147, 'G':  57, 'H': 137, 'I': 113,\n",
    "        'K': 128, 'L': 113, 'M': 131, 'N': 114,\n",
    "        'P':  97, 'Q': 128, 'R': 156, 'S':  87,\n",
    "        'T': 101, 'V':  99, 'W': 186, 'Y': 163 \n",
    "    }\n"
   ]
  },
  {
   "cell_type": "code",
   "execution_count": 9,
   "metadata": {},
   "outputs": [],
   "source": [
    "import itertools\n",
    "\n",
    "letters = Daltons.keys()\n",
    "peptides = []\n",
    "\n",
    "def weight(combo):\n",
    "    sum = 0\n",
    "    for x in combo:\n",
    "        sum += Daltons.get(x)\n",
    "    return sum\n",
    "\n",
    "# range is 3 to 8 because max value is 186; 407/186 = 2.188\n",
    "# min value is 57; 407/57 = 7.14\n",
    "# so you don't need any peptides longer or shorter than this\n",
    "for x in range(3,8):\n",
    "    for number in itertools.combinations(letters, x):\n",
    "        if(weight(number) == 407):\n",
    "            peptides.append(''.join(number))"
   ]
  },
  {
   "cell_type": "code",
   "execution_count": 54,
   "metadata": {},
   "outputs": [
    {
     "name": "stdout",
     "output_type": "stream",
     "text": [
      "DEY\n",
      "EFM\n",
      "FPY\n",
      "GHNV\n",
      "HNR\n",
      "IMY\n",
      "LMY\n"
     ]
    }
   ],
   "source": [
    "# sort the peptides with weight of 407 lexographically\n",
    "sorted_peps = []\n",
    "for p in peptides:\n",
    "    sorted_peps.append(sorted(p))\n",
    "\n",
    "for x in sorted(peptides):\n",
    "    print(x)"
   ]
  },
  {
   "cell_type": "raw",
   "metadata": {
    "number": 1,
    "section": "answer"
   },
   "source": [
    "Enter your list off residue combinations, one per line, below:\n",
    "DEY\n",
    "EFM\n",
    "FPY\n",
    "GHNV\n",
    "HNR\n",
    "IMY\n",
    "LMY"
   ]
  },
  {
   "cell_type": "markdown",
   "metadata": {
    "number": 2,
    "section": "problem"
   },
   "source": [
    "---\n",
    "**Problem #2:** The SARS-COV-2 protein encoded in *ORF6* interferes with an interferon antiviral response and thus enables the virus to replicate and propagate in their host. The peptide sequence for *ORF6* is:\n",
    "\n",
    "       MFHLVDFQVTIAEILLIIMRTFKVSIWNLDYIINLIIKNLSKSLTENKYSQLDEEQPMEID\n",
    "\n",
    "How many possible DNA-sequence encodings are possible for this protein (you can ignore the STOP codon)?"
   ]
  },
  {
   "cell_type": "code",
   "execution_count": 11,
   "metadata": {},
   "outputs": [],
   "source": [
    "orf6 = 'MFHLVDFQVTIAEILLIIMRTFKVSIWNLDYIINLIIKNLSKSLTENKYSQLDEEQPMEID'\n",
    "\n",
    "# from lecture 2 but STOP codons removed\n",
    "codon = {  # Maps an RNA triplet of nucelotides to a 1-letter Amino Acid Abbrevation \n",
    "    \"AAA\": 'K', \"AAG\": 'K', \"AAC\": 'N', \"AAT\": 'N',\n",
    "    \"AGA\": 'R', \"AGG\": 'R', \"AGC\": 'S', \"AGT\": 'S',\n",
    "    \"ACA\": 'T', \"ACG\": 'T', \"ACC\": 'T', \"ACT\": 'T',\n",
    "    \"ATA\": 'I', \"ATG\": 'M', \"ATC\": 'I', \"ATT\": 'I',\n",
    "    \"GAA\": 'E', \"GAG\": 'E', \"GAC\": 'D', \"GAT\": 'D',\n",
    "    \"GGA\": 'G', \"GGG\": 'G', \"GGC\": 'G', \"GGT\": 'G',\n",
    "    \"GCA\": 'A', \"GCG\": 'A', \"GCC\": 'A', \"GCT\": 'A',\n",
    "    \"GTA\": 'V', \"GTG\": 'V', \"GTC\": 'V', \"GTT\": 'V',\n",
    "    \"CAA\": 'Q', \"CAG\": 'Q', \"CAC\": 'H', \"CAT\": 'H',\n",
    "    \"CGA\": 'R', \"CGG\": 'R', \"CGC\": 'R', \"CGT\": 'R',\n",
    "    \"CCA\": 'P', \"CCG\": 'P', \"CCC\": 'P', \"CCT\": 'P',\n",
    "    \"CTA\": 'L', \"CTG\": 'L', \"CTC\": 'L', \"CTT\": 'L',\n",
    "      \"TAC\": 'Y', \"TAT\": 'Y',\n",
    "     \"TGG\": 'W', \"TGC\": 'C', \"TGT\": 'C',\n",
    "    \"TCA\": 'S', \"TCG\": 'S', \"TCC\": 'S', \"TCT\": 'S',\n",
    "    \"TTA\": 'L', \"TTG\": 'L', \"TTC\": 'F', \"TTT\": 'F'\n",
    "}\n",
    "\n",
    "AminoAcid = { # Maps 1-letter Amino Acid Abbrevations to their full name\n",
    "    'A': 'Alanine', 'C': 'Cysteine', 'D': 'Aspartic acid', 'E': 'Glutamic acid', 'F': 'Phenylalanine',\n",
    "    'G': 'Glycine', 'H': 'Histidine', 'I': 'Isoleucine', 'K': 'Lysine', 'L': 'Leucine', 'M': 'Methionine',\n",
    "    'N': 'Asparagine', 'P': 'Proline', 'Q': 'Glutamine', 'R': 'Arginine', 'S': 'Serine',\n",
    "    'T': 'Theronine', 'V': 'Valine', 'W': 'Tryptophan', 'Y': 'Tyrosine'\n",
    "}"
   ]
  },
  {
   "cell_type": "code",
   "execution_count": 12,
   "metadata": {},
   "outputs": [
    {
     "name": "stdout",
     "output_type": "stream",
     "text": [
      "{'A': ['GCA', 'GCG', 'GCC', 'GCT'], 'C': ['TGC', 'TGT'], 'D': ['GAC', 'GAT'], 'E': ['GAA', 'GAG'], 'F': ['TTC', 'TTT'], 'G': ['GGA', 'GGG', 'GGC', 'GGT'], 'H': ['CAC', 'CAT'], 'I': ['ATA', 'ATC', 'ATT'], 'K': ['AAA', 'AAG'], 'L': ['CTA', 'CTG', 'CTC', 'CTT', 'TTA', 'TTG'], 'M': ['ATG'], 'N': ['AAC', 'AAT'], 'P': ['CCA', 'CCG', 'CCC', 'CCT'], 'Q': ['CAA', 'CAG'], 'R': ['AGA', 'AGG', 'CGA', 'CGG', 'CGC', 'CGT'], 'S': ['AGC', 'AGT', 'TCA', 'TCG', 'TCC', 'TCT'], 'T': ['ACA', 'ACG', 'ACC', 'ACT'], 'V': ['GTA', 'GTG', 'GTC', 'GTT'], 'W': ['TGG'], 'Y': ['TAC', 'TAT']}\n"
     ]
    }
   ],
   "source": [
    "# make a dict that has each amino acid as the key and a list of codons as the value\n",
    "acid_to_codon = {}\n",
    "acids = AminoAcid.keys()\n",
    "for a in acids:\n",
    "    acid_to_codon[a] = []\n",
    "\n",
    "for c in codon:\n",
    "    acid_to_codon[codon.get(c)].append(c)\n",
    "\n",
    "print(acid_to_codon)"
   ]
  },
  {
   "cell_type": "code",
   "execution_count": 13,
   "metadata": {},
   "outputs": [
    {
     "name": "stdout",
     "output_type": "stream",
     "text": [
      "3391865480678009349693505536\n"
     ]
    }
   ],
   "source": [
    "encodings = 1\n",
    "for letter in orf6:\n",
    "    # need to multiply to get all possible combos\n",
    "    encodings *= len(acid_to_codon[letter])\n",
    "    \n",
    "print(encodings)"
   ]
  },
  {
   "cell_type": "raw",
   "metadata": {
    "number": 2,
    "section": "answer"
   },
   "source": [
    "Give the number of DNA enocodings ORF6 has: 3391865480678009349693505536"
   ]
  },
  {
   "cell_type": "markdown",
   "metadata": {
    "number": 3,
    "section": "problem"
   },
   "source": [
    "**Problem #3:** How many distinct molecular weights are in the Theoretical Spectrum of *ORF6*?  "
   ]
  },
  {
   "cell_type": "code",
   "execution_count": 40,
   "metadata": {},
   "outputs": [
    {
     "name": "stdout",
     "output_type": "stream",
     "text": [
      "1388\n"
     ]
    }
   ],
   "source": [
    "# from lecture 19\n",
    "def EditedTheoreticalSpectrum(peptide):\n",
    "    # Generate every possible fragment of a peptide\n",
    "    # a set is a list of unique values, there are no repeats\n",
    "    spectrum = set()\n",
    "    all_spec = []\n",
    "    twoResidues = []\n",
    "    for fragLength in range(1,len(peptide)+1):\n",
    "        for start in range(0,len(peptide)-fragLength+1):\n",
    "            seq = peptide[start:start+fragLength]\n",
    "            w = sum([Daltons[res] for res in seq])\n",
    "            spectrum.add(w)\n",
    "            all_spec.append(w)\n",
    "            if(len(seq) > 2):\n",
    "                twoResidues.append(w)\n",
    "    return sorted(spectrum), all_spec, twoResidues\n",
    "\n",
    "spectrumSet, spectrumAll, twoRes = EditedTheoreticalSpectrum(orf6)\n",
    "print(len(spectrumSet))\n",
    "# print(len(spectrumAll))"
   ]
  },
  {
   "cell_type": "raw",
   "metadata": {
    "number": 3,
    "section": "answer"
   },
   "source": [
    "Give the number of distinct molecular weights in the Theoretical spectrum of ORF6: 1388"
   ]
  },
  {
   "cell_type": "markdown",
   "metadata": {
    "number": 4,
    "section": "problem"
   },
   "source": [
    "---\n",
    "**Problem #4:** What is the most frequently occcuring molecular weight in the Theoretical spectrum of ORF6? What is the most frequently occcuring molecular weight in the Theoretical spectrum of ORF6 where all peptides composed of more than two residues? "
   ]
  },
  {
   "cell_type": "code",
   "execution_count": 64,
   "metadata": {},
   "outputs": [
    {
     "name": "stdout",
     "output_type": "stream",
     "text": [
      "[(113, 18), (128, 7), (226, 7), (227, 6), (129, 5), (200, 5), (614, 5), (2140, 5)]\n"
     ]
    }
   ],
   "source": [
    "# most frequently occuring molecular weight\n",
    "# https://www.geeksforgeeks.org/python-find-most-frequent-element-in-a-list/ \n",
    "from collections import Counter\n",
    "  \n",
    "def most_frequent(List):\n",
    "    occurence_count = Counter(List)\n",
    "    return occurence_count.most_common(8)\n",
    "    \n",
    "print(most_frequent(spectrumAll))\n",
    "# print('Weight', most_frequent(spectrumAll)[0][0], 'occurs', most_frequent(spectrumAll)[0][1], 'times')"
   ]
  },
  {
   "cell_type": "code",
   "execution_count": 65,
   "metadata": {},
   "outputs": [
    {
     "name": "stdout",
     "output_type": "stream",
     "text": [
      "[(614, 5), (2140, 5), (2332, 5), (2445, 5), (328, 4), (339, 4), (357, 4), (485, 4)]\n"
     ]
    }
   ],
   "source": [
    "# which weight is most frequent and has more than 2 amino acids\n",
    "# edit theoretical spectrum to show how many amino acids contribute to each weight\n",
    "# print('Weight', most_frequent(twoRes)[0][0], 'occurs', most_frequent(twoRes)[0][1], 'times and has more than 2 residues')\n",
    "print(most_frequent(twoRes))"
   ]
  },
  {
   "cell_type": "raw",
   "metadata": {
    "number": 4,
    "section": "answer"
   },
   "source": [
    "Most frequently occuring peptide molecular weight: 113\n",
    "Most frequently occuring peptide molecular weight where each peptide has more than two residues: 614, 2140, 2332, 2445"
   ]
  },
  {
   "cell_type": "markdown",
   "metadata": {
    "number": 5,
    "section": "problem"
   },
   "source": [
    "**Problem #5:** The following Experimental Spectrum is reported for a subpeptide of *ORF6*:\n",
    "\n",
    "    Experimental = [87, 113, 114, 115, 128, 186, 200, 215, 226, 227, 228, 241, 242, 276, \n",
    "                    278, 300, 314, 328, 339, 340, 342, 354, 355, 389, 391, 413, 442, 453, \n",
    "                    467, 468, 504, 505, 528, 555, 566, 570, 581, 616, 617, 668, 679, 683, \n",
    "                    691, 695, 729, 731, 781, 796, 804, 807, 808, 842, 844, 845, 895, 917, \n",
    "                    921, 957, 970, 1008, 1023, 1031, 1070, 1071, 1085, 1121, 1136, 1184, \n",
    "                    1197, 1198, 1199, 1249, 1257, 1284, 1312, 1370, 1399, 1412, 1425, 1426, \n",
    "                    1498, 1527, 1539, 1612, 1626, 1640, 1725, 1754, 1812, 1940]\n",
    "\n",
    "What is the subpeptite's sequence?"
   ]
  },
  {
   "cell_type": "code",
   "execution_count": 43,
   "metadata": {},
   "outputs": [],
   "source": [
    "Experimental = [87, 113, 114, 115, 128, 186, 200, 215, 226, 227, 228, 241, 242, 276, \n",
    "                278, 300, 314, 328, 339, 340, 342, 354, 355, 389, 391, 413, 442, 453, \n",
    "                467, 468, 504, 505, 528, 555, 566, 570, 581, 616, 617, 668, 679, 683, \n",
    "                691, 695, 729, 731, 781, 796, 804, 807, 808, 842, 844, 845, 895, 917, \n",
    "                921, 957, 970, 1008, 1023, 1031, 1070, 1071, 1085, 1121, 1136, 1184, \n",
    "                1197, 1198, 1199, 1249, 1257, 1284, 1312, 1370, 1399, 1412, 1425, 1426, \n",
    "                1498, 1527, 1539, 1612, 1626, 1640, 1725, 1754, 1812, 1940]"
   ]
  },
  {
   "cell_type": "code",
   "execution_count": 45,
   "metadata": {},
   "outputs": [
    {
     "name": "stdout",
     "output_type": "stream",
     "text": [
      "     400 Players in round 1 [0.0000]\n",
      "     680 Players in round 2 [0.0333]\n",
      "    1200 Players in round 3 [0.0667]\n",
      "    1800 Players in round 4 [0.1111]\n",
      "    2920 Players in round 5 [0.1538]\n",
      "    2960 Players in round 6 [0.1889]\n",
      "    4000 Players in round 7 [0.2444]\n",
      "    4320 Players in round 8 [0.2747]\n",
      "    5760 Players in round 9 [0.3370]\n",
      "    7040 Players in round 10 [0.3804]\n",
      "    7680 Players in round 11 [0.4194]\n",
      "   10240 Players in round 12 [0.5208]\n",
      "   12800 Players in round 13 [0.6186]\n",
      "   15360 Players in round 14 [0.6735]\n",
      "   35840 Players in round 15 [0.7778]\n",
      "   40960 Players in round 16 [0.9000]\n",
      "   40960 Players in round 17 [0.9000]\n",
      "Done, no sequences can be extended\n",
      "Wall time: 1min 8s\n",
      "[0.9, 'WNLDYLLNLLLQNLSK', 'WNLDYLLNLLLQNLSQ', 'WNLDYLLNLLLQNISK', 'WNLDYLLNLLLQNISQ', 'WNLDYLLNLLLKNLSK', 'WNLDYLLNLLLKNLSQ', 'WNLDYLLNLLLKNISK', 'WNLDYLLNLLLKNISQ', 'WNLDYLLNLLIQNLSK', 'WNLDYLLNLLIQNLSQ', 'WNLDYLLNLLIQNISK', 'WNLDYLLNLLIQNISQ', 'WNLDYLLNLLIKNLSK', 'WNLDYLLNLLIKNLSQ', 'WNLDYLLNLLIKNISK', 'WNLDYLLNLLIKNISQ', 'WNLDYLLNLILQNLSK', 'WNLDYLLNLILQNLSQ', 'WNLDYLLNLILQNISK', 'WNLDYLLNLILQNISQ', 'WNLDYLLNLILKNLSK', 'WNLDYLLNLILKNLSQ', 'WNLDYLLNLILKNISK', 'WNLDYLLNLILKNISQ', 'WNLDYLLNLIIQNLSK', 'WNLDYLLNLIIQNLSQ', 'WNLDYLLNLIIQNISK', 'WNLDYLLNLIIQNISQ', 'WNLDYLLNLIIKNLSK', 'WNLDYLLNLIIKNLSQ', 'WNLDYLLNLIIKNISK', 'WNLDYLLNLIIKNISQ', 'WNLDYLLNILLQNLSK', 'WNLDYLLNILLQNLSQ', 'WNLDYLLNILLQNISK', 'WNLDYLLNILLQNISQ', 'WNLDYLLNILLKNLSK', 'WNLDYLLNILLKNLSQ', 'WNLDYLLNILLKNISK', 'WNLDYLLNILLKNISQ', 'WNLDYLLNILIQNLSK', 'WNLDYLLNILIQNLSQ', 'WNLDYLLNILIQNISK', 'WNLDYLLNILIQNISQ', 'WNLDYLLNILIKNLSK', 'WNLDYLLNILIKNLSQ', 'WNLDYLLNILIKNISK', 'WNLDYLLNILIKNISQ', 'WNLDYLLNIILQNLSK', 'WNLDYLLNIILQNLSQ', 'WNLDYLLNIILQNISK', 'WNLDYLLNIILQNISQ', 'WNLDYLLNIILKNLSK', 'WNLDYLLNIILKNLSQ', 'WNLDYLLNIILKNISK', 'WNLDYLLNIILKNISQ', 'WNLDYLLNIIIQNLSK', 'WNLDYLLNIIIQNLSQ', 'WNLDYLLNIIIQNISK', 'WNLDYLLNIIIQNISQ', 'WNLDYLLNIIIKNLSK', 'WNLDYLLNIIIKNLSQ', 'WNLDYLLNIIIKNISK', 'WNLDYLLNIIIKNISQ', 'WNLDYLINLLLQNLSK', 'WNLDYLINLLLQNLSQ', 'WNLDYLINLLLQNISK', 'WNLDYLINLLLQNISQ', 'WNLDYLINLLLKNLSK', 'WNLDYLINLLLKNLSQ', 'WNLDYLINLLLKNISK', 'WNLDYLINLLLKNISQ', 'WNLDYLINLLIQNLSK', 'WNLDYLINLLIQNLSQ', 'WNLDYLINLLIQNISK', 'WNLDYLINLLIQNISQ', 'WNLDYLINLLIKNLSK', 'WNLDYLINLLIKNLSQ', 'WNLDYLINLLIKNISK', 'WNLDYLINLLIKNISQ', 'WNLDYLINLILQNLSK', 'WNLDYLINLILQNLSQ', 'WNLDYLINLILQNISK', 'WNLDYLINLILQNISQ', 'WNLDYLINLILKNLSK', 'WNLDYLINLILKNLSQ', 'WNLDYLINLILKNISK', 'WNLDYLINLILKNISQ', 'WNLDYLINLIIQNLSK', 'WNLDYLINLIIQNLSQ', 'WNLDYLINLIIQNISK', 'WNLDYLINLIIQNISQ', 'WNLDYLINLIIKNLSK', 'WNLDYLINLIIKNLSQ', 'WNLDYLINLIIKNISK', 'WNLDYLINLIIKNISQ', 'WNLDYLINILLQNLSK', 'WNLDYLINILLQNLSQ', 'WNLDYLINILLQNISK', 'WNLDYLINILLQNISQ', 'WNLDYLINILLKNLSK', 'WNLDYLINILLKNLSQ', 'WNLDYLINILLKNISK', 'WNLDYLINILLKNISQ', 'WNLDYLINILIQNLSK', 'WNLDYLINILIQNLSQ', 'WNLDYLINILIQNISK', 'WNLDYLINILIQNISQ', 'WNLDYLINILIKNLSK', 'WNLDYLINILIKNLSQ', 'WNLDYLINILIKNISK', 'WNLDYLINILIKNISQ', 'WNLDYLINIILQNLSK', 'WNLDYLINIILQNLSQ', 'WNLDYLINIILQNISK', 'WNLDYLINIILQNISQ', 'WNLDYLINIILKNLSK', 'WNLDYLINIILKNLSQ', 'WNLDYLINIILKNISK', 'WNLDYLINIILKNISQ', 'WNLDYLINIIIQNLSK', 'WNLDYLINIIIQNLSQ', 'WNLDYLINIIIQNISK', 'WNLDYLINIIIQNISQ', 'WNLDYLINIIIKNLSK', 'WNLDYLINIIIKNLSQ', 'WNLDYLINIIIKNISK', 'WNLDYLINIIIKNISQ', 'WNLDYILNLLLQNLSK', 'WNLDYILNLLLQNLSQ', 'WNLDYILNLLLQNISK', 'WNLDYILNLLLQNISQ', 'WNLDYILNLLLKNLSK', 'WNLDYILNLLLKNLSQ', 'WNLDYILNLLLKNISK', 'WNLDYILNLLLKNISQ', 'WNLDYILNLLIQNLSK', 'WNLDYILNLLIQNLSQ', 'WNLDYILNLLIQNISK', 'WNLDYILNLLIQNISQ', 'WNLDYILNLLIKNLSK', 'WNLDYILNLLIKNLSQ', 'WNLDYILNLLIKNISK', 'WNLDYILNLLIKNISQ', 'WNLDYILNLILQNLSK', 'WNLDYILNLILQNLSQ', 'WNLDYILNLILQNISK', 'WNLDYILNLILQNISQ', 'WNLDYILNLILKNLSK', 'WNLDYILNLILKNLSQ', 'WNLDYILNLILKNISK', 'WNLDYILNLILKNISQ', 'WNLDYILNLIIQNLSK', 'WNLDYILNLIIQNLSQ', 'WNLDYILNLIIQNISK', 'WNLDYILNLIIQNISQ', 'WNLDYILNLIIKNLSK', 'WNLDYILNLIIKNLSQ', 'WNLDYILNLIIKNISK', 'WNLDYILNLIIKNISQ', 'WNLDYILNILLQNLSK', 'WNLDYILNILLQNLSQ', 'WNLDYILNILLQNISK', 'WNLDYILNILLQNISQ', 'WNLDYILNILLKNLSK', 'WNLDYILNILLKNLSQ', 'WNLDYILNILLKNISK', 'WNLDYILNILLKNISQ', 'WNLDYILNILIQNLSK', 'WNLDYILNILIQNLSQ', 'WNLDYILNILIQNISK', 'WNLDYILNILIQNISQ', 'WNLDYILNILIKNLSK', 'WNLDYILNILIKNLSQ', 'WNLDYILNILIKNISK', 'WNLDYILNILIKNISQ', 'WNLDYILNIILQNLSK', 'WNLDYILNIILQNLSQ', 'WNLDYILNIILQNISK', 'WNLDYILNIILQNISQ', 'WNLDYILNIILKNLSK', 'WNLDYILNIILKNLSQ', 'WNLDYILNIILKNISK', 'WNLDYILNIILKNISQ', 'WNLDYILNIIIQNLSK', 'WNLDYILNIIIQNLSQ', 'WNLDYILNIIIQNISK', 'WNLDYILNIIIQNISQ', 'WNLDYILNIIIKNLSK', 'WNLDYILNIIIKNLSQ', 'WNLDYILNIIIKNISK', 'WNLDYILNIIIKNISQ', 'WNLDYIINLLLQNLSK', 'WNLDYIINLLLQNLSQ', 'WNLDYIINLLLQNISK', 'WNLDYIINLLLQNISQ', 'WNLDYIINLLLKNLSK', 'WNLDYIINLLLKNLSQ', 'WNLDYIINLLLKNISK', 'WNLDYIINLLLKNISQ', 'WNLDYIINLLIQNLSK', 'WNLDYIINLLIQNLSQ', 'WNLDYIINLLIQNISK', 'WNLDYIINLLIQNISQ', 'WNLDYIINLLIKNLSK', 'WNLDYIINLLIKNLSQ', 'WNLDYIINLLIKNISK', 'WNLDYIINLLIKNISQ', 'WNLDYIINLILQNLSK', 'WNLDYIINLILQNLSQ', 'WNLDYIINLILQNISK', 'WNLDYIINLILQNISQ', 'WNLDYIINLILKNLSK', 'WNLDYIINLILKNLSQ', 'WNLDYIINLILKNISK', 'WNLDYIINLILKNISQ', 'WNLDYIINLIIQNLSK', 'WNLDYIINLIIQNLSQ', 'WNLDYIINLIIQNISK', 'WNLDYIINLIIQNISQ', 'WNLDYIINLIIKNLSK', 'WNLDYIINLIIKNLSQ', 'WNLDYIINLIIKNISK', 'WNLDYIINLIIKNISQ', 'WNLDYIINILLQNLSK', 'WNLDYIINILLQNLSQ', 'WNLDYIINILLQNISK', 'WNLDYIINILLQNISQ', 'WNLDYIINILLKNLSK', 'WNLDYIINILLKNLSQ', 'WNLDYIINILLKNISK', 'WNLDYIINILLKNISQ', 'WNLDYIINILIQNLSK', 'WNLDYIINILIQNLSQ', 'WNLDYIINILIQNISK', 'WNLDYIINILIQNISQ', 'WNLDYIINILIKNLSK', 'WNLDYIINILIKNLSQ', 'WNLDYIINILIKNISK', 'WNLDYIINILIKNISQ', 'WNLDYIINIILQNLSK', 'WNLDYIINIILQNLSQ', 'WNLDYIINIILQNISK', 'WNLDYIINIILQNISQ', 'WNLDYIINIILKNLSK', 'WNLDYIINIILKNLSQ', 'WNLDYIINIILKNISK', 'WNLDYIINIILKNISQ', 'WNLDYIINIIIQNLSK', 'WNLDYIINIIIQNLSQ', 'WNLDYIINIIIQNISK', 'WNLDYIINIIIQNISQ', 'WNLDYIINIIIKNLSK', 'WNLDYIINIIIKNLSQ', 'WNLDYIINIIIKNISK', 'WNLDYIINIIIKNISQ', 'WNIDYLLNLLLQNLSK', 'WNIDYLLNLLLQNLSQ', 'WNIDYLLNLLLQNISK', 'WNIDYLLNLLLQNISQ', 'WNIDYLLNLLLKNLSK', 'WNIDYLLNLLLKNLSQ', 'WNIDYLLNLLLKNISK', 'WNIDYLLNLLLKNISQ', 'WNIDYLLNLLIQNLSK', 'WNIDYLLNLLIQNLSQ', 'WNIDYLLNLLIQNISK', 'WNIDYLLNLLIQNISQ', 'WNIDYLLNLLIKNLSK', 'WNIDYLLNLLIKNLSQ', 'WNIDYLLNLLIKNISK', 'WNIDYLLNLLIKNISQ', 'WNIDYLLNLILQNLSK', 'WNIDYLLNLILQNLSQ', 'WNIDYLLNLILQNISK', 'WNIDYLLNLILQNISQ', 'WNIDYLLNLILKNLSK', 'WNIDYLLNLILKNLSQ', 'WNIDYLLNLILKNISK', 'WNIDYLLNLILKNISQ', 'WNIDYLLNLIIQNLSK', 'WNIDYLLNLIIQNLSQ', 'WNIDYLLNLIIQNISK', 'WNIDYLLNLIIQNISQ', 'WNIDYLLNLIIKNLSK', 'WNIDYLLNLIIKNLSQ', 'WNIDYLLNLIIKNISK', 'WNIDYLLNLIIKNISQ', 'WNIDYLLNILLQNLSK', 'WNIDYLLNILLQNLSQ', 'WNIDYLLNILLQNISK', 'WNIDYLLNILLQNISQ', 'WNIDYLLNILLKNLSK', 'WNIDYLLNILLKNLSQ', 'WNIDYLLNILLKNISK', 'WNIDYLLNILLKNISQ', 'WNIDYLLNILIQNLSK', 'WNIDYLLNILIQNLSQ', 'WNIDYLLNILIQNISK', 'WNIDYLLNILIQNISQ', 'WNIDYLLNILIKNLSK', 'WNIDYLLNILIKNLSQ', 'WNIDYLLNILIKNISK', 'WNIDYLLNILIKNISQ', 'WNIDYLLNIILQNLSK', 'WNIDYLLNIILQNLSQ', 'WNIDYLLNIILQNISK', 'WNIDYLLNIILQNISQ', 'WNIDYLLNIILKNLSK', 'WNIDYLLNIILKNLSQ', 'WNIDYLLNIILKNISK', 'WNIDYLLNIILKNISQ', 'WNIDYLLNIIIQNLSK', 'WNIDYLLNIIIQNLSQ', 'WNIDYLLNIIIQNISK', 'WNIDYLLNIIIQNISQ', 'WNIDYLLNIIIKNLSK', 'WNIDYLLNIIIKNLSQ', 'WNIDYLLNIIIKNISK', 'WNIDYLLNIIIKNISQ', 'WNIDYLINLLLQNLSK', 'WNIDYLINLLLQNLSQ', 'WNIDYLINLLLQNISK', 'WNIDYLINLLLQNISQ', 'WNIDYLINLLLKNLSK', 'WNIDYLINLLLKNLSQ', 'WNIDYLINLLLKNISK', 'WNIDYLINLLLKNISQ', 'WNIDYLINLLIQNLSK', 'WNIDYLINLLIQNLSQ', 'WNIDYLINLLIQNISK', 'WNIDYLINLLIQNISQ', 'WNIDYLINLLIKNLSK', 'WNIDYLINLLIKNLSQ', 'WNIDYLINLLIKNISK', 'WNIDYLINLLIKNISQ', 'WNIDYLINLILQNLSK', 'WNIDYLINLILQNLSQ', 'WNIDYLINLILQNISK', 'WNIDYLINLILQNISQ', 'WNIDYLINLILKNLSK', 'WNIDYLINLILKNLSQ', 'WNIDYLINLILKNISK', 'WNIDYLINLILKNISQ', 'WNIDYLINLIIQNLSK', 'WNIDYLINLIIQNLSQ', 'WNIDYLINLIIQNISK', 'WNIDYLINLIIQNISQ', 'WNIDYLINLIIKNLSK', 'WNIDYLINLIIKNLSQ', 'WNIDYLINLIIKNISK', 'WNIDYLINLIIKNISQ', 'WNIDYLINILLQNLSK', 'WNIDYLINILLQNLSQ', 'WNIDYLINILLQNISK', 'WNIDYLINILLQNISQ', 'WNIDYLINILLKNLSK', 'WNIDYLINILLKNLSQ', 'WNIDYLINILLKNISK', 'WNIDYLINILLKNISQ', 'WNIDYLINILIQNLSK', 'WNIDYLINILIQNLSQ', 'WNIDYLINILIQNISK', 'WNIDYLINILIQNISQ', 'WNIDYLINILIKNLSK', 'WNIDYLINILIKNLSQ', 'WNIDYLINILIKNISK', 'WNIDYLINILIKNISQ', 'WNIDYLINIILQNLSK', 'WNIDYLINIILQNLSQ', 'WNIDYLINIILQNISK', 'WNIDYLINIILQNISQ', 'WNIDYLINIILKNLSK', 'WNIDYLINIILKNLSQ', 'WNIDYLINIILKNISK', 'WNIDYLINIILKNISQ', 'WNIDYLINIIIQNLSK', 'WNIDYLINIIIQNLSQ', 'WNIDYLINIIIQNISK', 'WNIDYLINIIIQNISQ', 'WNIDYLINIIIKNLSK', 'WNIDYLINIIIKNLSQ', 'WNIDYLINIIIKNISK', 'WNIDYLINIIIKNISQ', 'WNIDYILNLLLQNLSK', 'WNIDYILNLLLQNLSQ', 'WNIDYILNLLLQNISK', 'WNIDYILNLLLQNISQ', 'WNIDYILNLLLKNLSK', 'WNIDYILNLLLKNLSQ', 'WNIDYILNLLLKNISK', 'WNIDYILNLLLKNISQ', 'WNIDYILNLLIQNLSK', 'WNIDYILNLLIQNLSQ', 'WNIDYILNLLIQNISK', 'WNIDYILNLLIQNISQ', 'WNIDYILNLLIKNLSK', 'WNIDYILNLLIKNLSQ', 'WNIDYILNLLIKNISK', 'WNIDYILNLLIKNISQ', 'WNIDYILNLILQNLSK', 'WNIDYILNLILQNLSQ', 'WNIDYILNLILQNISK', 'WNIDYILNLILQNISQ', 'WNIDYILNLILKNLSK', 'WNIDYILNLILKNLSQ', 'WNIDYILNLILKNISK', 'WNIDYILNLILKNISQ', 'WNIDYILNLIIQNLSK', 'WNIDYILNLIIQNLSQ', 'WNIDYILNLIIQNISK', 'WNIDYILNLIIQNISQ', 'WNIDYILNLIIKNLSK', 'WNIDYILNLIIKNLSQ', 'WNIDYILNLIIKNISK', 'WNIDYILNLIIKNISQ', 'WNIDYILNILLQNLSK', 'WNIDYILNILLQNLSQ', 'WNIDYILNILLQNISK', 'WNIDYILNILLQNISQ', 'WNIDYILNILLKNLSK', 'WNIDYILNILLKNLSQ', 'WNIDYILNILLKNISK', 'WNIDYILNILLKNISQ', 'WNIDYILNILIQNLSK', 'WNIDYILNILIQNLSQ', 'WNIDYILNILIQNISK', 'WNIDYILNILIQNISQ', 'WNIDYILNILIKNLSK', 'WNIDYILNILIKNLSQ', 'WNIDYILNILIKNISK', 'WNIDYILNILIKNISQ', 'WNIDYILNIILQNLSK', 'WNIDYILNIILQNLSQ', 'WNIDYILNIILQNISK', 'WNIDYILNIILQNISQ', 'WNIDYILNIILKNLSK', 'WNIDYILNIILKNLSQ', 'WNIDYILNIILKNISK', 'WNIDYILNIILKNISQ', 'WNIDYILNIIIQNLSK', 'WNIDYILNIIIQNLSQ', 'WNIDYILNIIIQNISK', 'WNIDYILNIIIQNISQ', 'WNIDYILNIIIKNLSK', 'WNIDYILNIIIKNLSQ', 'WNIDYILNIIIKNISK', 'WNIDYILNIIIKNISQ', 'WNIDYIINLLLQNLSK', 'WNIDYIINLLLQNLSQ', 'WNIDYIINLLLQNISK', 'WNIDYIINLLLQNISQ', 'WNIDYIINLLLKNLSK', 'WNIDYIINLLLKNLSQ', 'WNIDYIINLLLKNISK', 'WNIDYIINLLLKNISQ', 'WNIDYIINLLIQNLSK', 'WNIDYIINLLIQNLSQ', 'WNIDYIINLLIQNISK', 'WNIDYIINLLIQNISQ', 'WNIDYIINLLIKNLSK', 'WNIDYIINLLIKNLSQ', 'WNIDYIINLLIKNISK', 'WNIDYIINLLIKNISQ', 'WNIDYIINLILQNLSK', 'WNIDYIINLILQNLSQ', 'WNIDYIINLILQNISK', 'WNIDYIINLILQNISQ', 'WNIDYIINLILKNLSK', 'WNIDYIINLILKNLSQ', 'WNIDYIINLILKNISK', 'WNIDYIINLILKNISQ', 'WNIDYIINLIIQNLSK', 'WNIDYIINLIIQNLSQ', 'WNIDYIINLIIQNISK', 'WNIDYIINLIIQNISQ', 'WNIDYIINLIIKNLSK', 'WNIDYIINLIIKNLSQ', 'WNIDYIINLIIKNISK', 'WNIDYIINLIIKNISQ', 'WNIDYIINILLQNLSK', 'WNIDYIINILLQNLSQ', 'WNIDYIINILLQNISK', 'WNIDYIINILLQNISQ', 'WNIDYIINILLKNLSK', 'WNIDYIINILLKNLSQ', 'WNIDYIINILLKNISK', 'WNIDYIINILLKNISQ', 'WNIDYIINILIQNLSK', 'WNIDYIINILIQNLSQ', 'WNIDYIINILIQNISK', 'WNIDYIINILIQNISQ', 'WNIDYIINILIKNLSK', 'WNIDYIINILIKNLSQ', 'WNIDYIINILIKNISK', 'WNIDYIINILIKNISQ', 'WNIDYIINIILQNLSK', 'WNIDYIINIILQNLSQ', 'WNIDYIINIILQNISK', 'WNIDYIINIILQNISQ', 'WNIDYIINIILKNLSK', 'WNIDYIINIILKNLSQ', 'WNIDYIINIILKNISK', 'WNIDYIINIILKNISQ', 'WNIDYIINIIIQNLSK', 'WNIDYIINIIIQNLSQ', 'WNIDYIINIIIQNISK', 'WNIDYIINIIIQNISQ', 'WNIDYIINIIIKNLSK', 'WNIDYIINIIIKNLSQ', 'WNIDYIINIIIKNISK', 'WNIDYIINIIIKNISQ', 'QSLNQLLLNLLYDLNW', 'QSLNQLLLNLLYDINW', 'QSLNQLLLNLIYDLNW', 'QSLNQLLLNLIYDINW', 'QSLNQLLLNILYDLNW', 'QSLNQLLLNILYDINW', 'QSLNQLLLNIIYDLNW', 'QSLNQLLLNIIYDINW', 'QSLNQLLINLLYDLNW', 'QSLNQLLINLLYDINW', 'QSLNQLLINLIYDLNW', 'QSLNQLLINLIYDINW', 'QSLNQLLINILYDLNW', 'QSLNQLLINILYDINW', 'QSLNQLLINIIYDLNW', 'QSLNQLLINIIYDINW', 'QSLNQLILNLLYDLNW', 'QSLNQLILNLLYDINW', 'QSLNQLILNLIYDLNW', 'QSLNQLILNLIYDINW', 'QSLNQLILNILYDLNW', 'QSLNQLILNILYDINW', 'QSLNQLILNIIYDLNW', 'QSLNQLILNIIYDINW', 'QSLNQLIINLLYDLNW', 'QSLNQLIINLLYDINW', 'QSLNQLIINLIYDLNW', 'QSLNQLIINLIYDINW', 'QSLNQLIINILYDLNW', 'QSLNQLIINILYDINW', 'QSLNQLIINIIYDLNW', 'QSLNQLIINIIYDINW', 'QSLNQILLNLLYDLNW', 'QSLNQILLNLLYDINW', 'QSLNQILLNLIYDLNW', 'QSLNQILLNLIYDINW', 'QSLNQILLNILYDLNW', 'QSLNQILLNILYDINW', 'QSLNQILLNIIYDLNW', 'QSLNQILLNIIYDINW', 'QSLNQILINLLYDLNW', 'QSLNQILINLLYDINW', 'QSLNQILINLIYDLNW', 'QSLNQILINLIYDINW', 'QSLNQILINILYDLNW', 'QSLNQILINILYDINW', 'QSLNQILINIIYDLNW', 'QSLNQILINIIYDINW', 'QSLNQIILNLLYDLNW', 'QSLNQIILNLLYDINW', 'QSLNQIILNLIYDLNW', 'QSLNQIILNLIYDINW', 'QSLNQIILNILYDLNW', 'QSLNQIILNILYDINW', 'QSLNQIILNIIYDLNW', 'QSLNQIILNIIYDINW', 'QSLNQIIINLLYDLNW', 'QSLNQIIINLLYDINW', 'QSLNQIIINLIYDLNW', 'QSLNQIIINLIYDINW', 'QSLNQIIINILYDLNW', 'QSLNQIIINILYDINW', 'QSLNQIIINIIYDLNW', 'QSLNQIIINIIYDINW', 'QSLNKLLLNLLYDLNW', 'QSLNKLLLNLLYDINW', 'QSLNKLLLNLIYDLNW', 'QSLNKLLLNLIYDINW', 'QSLNKLLLNILYDLNW', 'QSLNKLLLNILYDINW', 'QSLNKLLLNIIYDLNW', 'QSLNKLLLNIIYDINW', 'QSLNKLLINLLYDLNW', 'QSLNKLLINLLYDINW', 'QSLNKLLINLIYDLNW', 'QSLNKLLINLIYDINW', 'QSLNKLLINILYDLNW', 'QSLNKLLINILYDINW', 'QSLNKLLINIIYDLNW', 'QSLNKLLINIIYDINW', 'QSLNKLILNLLYDLNW', 'QSLNKLILNLLYDINW', 'QSLNKLILNLIYDLNW', 'QSLNKLILNLIYDINW', 'QSLNKLILNILYDLNW', 'QSLNKLILNILYDINW', 'QSLNKLILNIIYDLNW', 'QSLNKLILNIIYDINW', 'QSLNKLIINLLYDLNW', 'QSLNKLIINLLYDINW', 'QSLNKLIINLIYDLNW', 'QSLNKLIINLIYDINW', 'QSLNKLIINILYDLNW', 'QSLNKLIINILYDINW', 'QSLNKLIINIIYDLNW', 'QSLNKLIINIIYDINW', 'QSLNKILLNLLYDLNW', 'QSLNKILLNLLYDINW', 'QSLNKILLNLIYDLNW', 'QSLNKILLNLIYDINW', 'QSLNKILLNILYDLNW', 'QSLNKILLNILYDINW', 'QSLNKILLNIIYDLNW', 'QSLNKILLNIIYDINW', 'QSLNKILINLLYDLNW', 'QSLNKILINLLYDINW', 'QSLNKILINLIYDLNW', 'QSLNKILINLIYDINW', 'QSLNKILINILYDLNW', 'QSLNKILINILYDINW', 'QSLNKILINIIYDLNW', 'QSLNKILINIIYDINW', 'QSLNKIILNLLYDLNW', 'QSLNKIILNLLYDINW', 'QSLNKIILNLIYDLNW', 'QSLNKIILNLIYDINW', 'QSLNKIILNILYDLNW', 'QSLNKIILNILYDINW', 'QSLNKIILNIIYDLNW', 'QSLNKIILNIIYDINW', 'QSLNKIIINLLYDLNW', 'QSLNKIIINLLYDINW', 'QSLNKIIINLIYDLNW', 'QSLNKIIINLIYDINW', 'QSLNKIIINILYDLNW', 'QSLNKIIINILYDINW', 'QSLNKIIINIIYDLNW', 'QSLNKIIINIIYDINW', 'QSINQLLLNLLYDLNW', 'QSINQLLLNLLYDINW', 'QSINQLLLNLIYDLNW', 'QSINQLLLNLIYDINW', 'QSINQLLLNILYDLNW', 'QSINQLLLNILYDINW', 'QSINQLLLNIIYDLNW', 'QSINQLLLNIIYDINW', 'QSINQLLINLLYDLNW', 'QSINQLLINLLYDINW', 'QSINQLLINLIYDLNW', 'QSINQLLINLIYDINW', 'QSINQLLINILYDLNW', 'QSINQLLINILYDINW', 'QSINQLLINIIYDLNW', 'QSINQLLINIIYDINW', 'QSINQLILNLLYDLNW', 'QSINQLILNLLYDINW', 'QSINQLILNLIYDLNW', 'QSINQLILNLIYDINW', 'QSINQLILNILYDLNW', 'QSINQLILNILYDINW', 'QSINQLILNIIYDLNW', 'QSINQLILNIIYDINW', 'QSINQLIINLLYDLNW', 'QSINQLIINLLYDINW', 'QSINQLIINLIYDLNW', 'QSINQLIINLIYDINW', 'QSINQLIINILYDLNW', 'QSINQLIINILYDINW', 'QSINQLIINIIYDLNW', 'QSINQLIINIIYDINW', 'QSINQILLNLLYDLNW', 'QSINQILLNLLYDINW', 'QSINQILLNLIYDLNW', 'QSINQILLNLIYDINW', 'QSINQILLNILYDLNW', 'QSINQILLNILYDINW', 'QSINQILLNIIYDLNW', 'QSINQILLNIIYDINW', 'QSINQILINLLYDLNW', 'QSINQILINLLYDINW', 'QSINQILINLIYDLNW', 'QSINQILINLIYDINW', 'QSINQILINILYDLNW', 'QSINQILINILYDINW', 'QSINQILINIIYDLNW', 'QSINQILINIIYDINW', 'QSINQIILNLLYDLNW', 'QSINQIILNLLYDINW', 'QSINQIILNLIYDLNW', 'QSINQIILNLIYDINW', 'QSINQIILNILYDLNW', 'QSINQIILNILYDINW', 'QSINQIILNIIYDLNW', 'QSINQIILNIIYDINW', 'QSINQIIINLLYDLNW', 'QSINQIIINLLYDINW', 'QSINQIIINLIYDLNW', 'QSINQIIINLIYDINW', 'QSINQIIINILYDLNW', 'QSINQIIINILYDINW', 'QSINQIIINIIYDLNW', 'QSINQIIINIIYDINW', 'QSINKLLLNLLYDLNW', 'QSINKLLLNLLYDINW', 'QSINKLLLNLIYDLNW', 'QSINKLLLNLIYDINW', 'QSINKLLLNILYDLNW', 'QSINKLLLNILYDINW', 'QSINKLLLNIIYDLNW', 'QSINKLLLNIIYDINW', 'QSINKLLINLLYDLNW', 'QSINKLLINLLYDINW', 'QSINKLLINLIYDLNW', 'QSINKLLINLIYDINW', 'QSINKLLINILYDLNW', 'QSINKLLINILYDINW', 'QSINKLLINIIYDLNW', 'QSINKLLINIIYDINW', 'QSINKLILNLLYDLNW', 'QSINKLILNLLYDINW', 'QSINKLILNLIYDLNW', 'QSINKLILNLIYDINW', 'QSINKLILNILYDLNW', 'QSINKLILNILYDINW', 'QSINKLILNIIYDLNW', 'QSINKLILNIIYDINW', 'QSINKLIINLLYDLNW', 'QSINKLIINLLYDINW', 'QSINKLIINLIYDLNW', 'QSINKLIINLIYDINW', 'QSINKLIINILYDLNW', 'QSINKLIINILYDINW', 'QSINKLIINIIYDLNW', 'QSINKLIINIIYDINW', 'QSINKILLNLLYDLNW', 'QSINKILLNLLYDINW', 'QSINKILLNLIYDLNW', 'QSINKILLNLIYDINW', 'QSINKILLNILYDLNW', 'QSINKILLNILYDINW', 'QSINKILLNIIYDLNW', 'QSINKILLNIIYDINW', 'QSINKILINLLYDLNW', 'QSINKILINLLYDINW', 'QSINKILINLIYDLNW', 'QSINKILINLIYDINW', 'QSINKILINILYDLNW', 'QSINKILINILYDINW', 'QSINKILINIIYDLNW', 'QSINKILINIIYDINW', 'QSINKIILNLLYDLNW', 'QSINKIILNLLYDINW', 'QSINKIILNLIYDLNW', 'QSINKIILNLIYDINW', 'QSINKIILNILYDLNW', 'QSINKIILNILYDINW', 'QSINKIILNIIYDLNW', 'QSINKIILNIIYDINW', 'QSINKIIINLLYDLNW', 'QSINKIIINLLYDINW', 'QSINKIIINLIYDLNW', 'QSINKIIINLIYDINW', 'QSINKIIINILYDLNW', 'QSINKIIINILYDINW', 'QSINKIIINIIYDLNW', 'QSINKIIINIIYDINW', 'KSLNQLLLNLLYDLNW', 'KSLNQLLLNLLYDINW', 'KSLNQLLLNLIYDLNW', 'KSLNQLLLNLIYDINW', 'KSLNQLLLNILYDLNW', 'KSLNQLLLNILYDINW', 'KSLNQLLLNIIYDLNW', 'KSLNQLLLNIIYDINW', 'KSLNQLLINLLYDLNW', 'KSLNQLLINLLYDINW', 'KSLNQLLINLIYDLNW', 'KSLNQLLINLIYDINW', 'KSLNQLLINILYDLNW', 'KSLNQLLINILYDINW', 'KSLNQLLINIIYDLNW', 'KSLNQLLINIIYDINW', 'KSLNQLILNLLYDLNW', 'KSLNQLILNLLYDINW', 'KSLNQLILNLIYDLNW', 'KSLNQLILNLIYDINW', 'KSLNQLILNILYDLNW', 'KSLNQLILNILYDINW', 'KSLNQLILNIIYDLNW', 'KSLNQLILNIIYDINW', 'KSLNQLIINLLYDLNW', 'KSLNQLIINLLYDINW', 'KSLNQLIINLIYDLNW', 'KSLNQLIINLIYDINW', 'KSLNQLIINILYDLNW', 'KSLNQLIINILYDINW', 'KSLNQLIINIIYDLNW', 'KSLNQLIINIIYDINW', 'KSLNQILLNLLYDLNW', 'KSLNQILLNLLYDINW', 'KSLNQILLNLIYDLNW', 'KSLNQILLNLIYDINW', 'KSLNQILLNILYDLNW', 'KSLNQILLNILYDINW', 'KSLNQILLNIIYDLNW', 'KSLNQILLNIIYDINW', 'KSLNQILINLLYDLNW', 'KSLNQILINLLYDINW', 'KSLNQILINLIYDLNW', 'KSLNQILINLIYDINW', 'KSLNQILINILYDLNW', 'KSLNQILINILYDINW', 'KSLNQILINIIYDLNW', 'KSLNQILINIIYDINW', 'KSLNQIILNLLYDLNW', 'KSLNQIILNLLYDINW', 'KSLNQIILNLIYDLNW', 'KSLNQIILNLIYDINW', 'KSLNQIILNILYDLNW', 'KSLNQIILNILYDINW', 'KSLNQIILNIIYDLNW', 'KSLNQIILNIIYDINW', 'KSLNQIIINLLYDLNW', 'KSLNQIIINLLYDINW', 'KSLNQIIINLIYDLNW', 'KSLNQIIINLIYDINW', 'KSLNQIIINILYDLNW', 'KSLNQIIINILYDINW', 'KSLNQIIINIIYDLNW', 'KSLNQIIINIIYDINW', 'KSLNKLLLNLLYDLNW', 'KSLNKLLLNLLYDINW', 'KSLNKLLLNLIYDLNW', 'KSLNKLLLNLIYDINW', 'KSLNKLLLNILYDLNW', 'KSLNKLLLNILYDINW', 'KSLNKLLLNIIYDLNW', 'KSLNKLLLNIIYDINW', 'KSLNKLLINLLYDLNW', 'KSLNKLLINLLYDINW', 'KSLNKLLINLIYDLNW', 'KSLNKLLINLIYDINW', 'KSLNKLLINILYDLNW', 'KSLNKLLINILYDINW', 'KSLNKLLINIIYDLNW', 'KSLNKLLINIIYDINW', 'KSLNKLILNLLYDLNW', 'KSLNKLILNLLYDINW', 'KSLNKLILNLIYDLNW', 'KSLNKLILNLIYDINW', 'KSLNKLILNILYDLNW', 'KSLNKLILNILYDINW', 'KSLNKLILNIIYDLNW', 'KSLNKLILNIIYDINW', 'KSLNKLIINLLYDLNW', 'KSLNKLIINLLYDINW', 'KSLNKLIINLIYDLNW', 'KSLNKLIINLIYDINW', 'KSLNKLIINILYDLNW', 'KSLNKLIINILYDINW', 'KSLNKLIINIIYDLNW', 'KSLNKLIINIIYDINW', 'KSLNKILLNLLYDLNW', 'KSLNKILLNLLYDINW', 'KSLNKILLNLIYDLNW', 'KSLNKILLNLIYDINW', 'KSLNKILLNILYDLNW', 'KSLNKILLNILYDINW', 'KSLNKILLNIIYDLNW', 'KSLNKILLNIIYDINW', 'KSLNKILINLLYDLNW', 'KSLNKILINLLYDINW', 'KSLNKILINLIYDLNW', 'KSLNKILINLIYDINW', 'KSLNKILINILYDLNW', 'KSLNKILINILYDINW', 'KSLNKILINIIYDLNW', 'KSLNKILINIIYDINW', 'KSLNKIILNLLYDLNW', 'KSLNKIILNLLYDINW', 'KSLNKIILNLIYDLNW', 'KSLNKIILNLIYDINW', 'KSLNKIILNILYDLNW', 'KSLNKIILNILYDINW', 'KSLNKIILNIIYDLNW', 'KSLNKIILNIIYDINW', 'KSLNKIIINLLYDLNW', 'KSLNKIIINLLYDINW', 'KSLNKIIINLIYDLNW', 'KSLNKIIINLIYDINW', 'KSLNKIIINILYDLNW', 'KSLNKIIINILYDINW', 'KSLNKIIINIIYDLNW', 'KSLNKIIINIIYDINW', 'KSINQLLLNLLYDLNW', 'KSINQLLLNLLYDINW', 'KSINQLLLNLIYDLNW', 'KSINQLLLNLIYDINW', 'KSINQLLLNILYDLNW', 'KSINQLLLNILYDINW', 'KSINQLLLNIIYDLNW', 'KSINQLLLNIIYDINW', 'KSINQLLINLLYDLNW', 'KSINQLLINLLYDINW', 'KSINQLLINLIYDLNW', 'KSINQLLINLIYDINW', 'KSINQLLINILYDLNW', 'KSINQLLINILYDINW', 'KSINQLLINIIYDLNW', 'KSINQLLINIIYDINW', 'KSINQLILNLLYDLNW', 'KSINQLILNLLYDINW', 'KSINQLILNLIYDLNW', 'KSINQLILNLIYDINW', 'KSINQLILNILYDLNW', 'KSINQLILNILYDINW', 'KSINQLILNIIYDLNW', 'KSINQLILNIIYDINW', 'KSINQLIINLLYDLNW', 'KSINQLIINLLYDINW', 'KSINQLIINLIYDLNW', 'KSINQLIINLIYDINW', 'KSINQLIINILYDLNW', 'KSINQLIINILYDINW', 'KSINQLIINIIYDLNW', 'KSINQLIINIIYDINW', 'KSINQILLNLLYDLNW', 'KSINQILLNLLYDINW', 'KSINQILLNLIYDLNW', 'KSINQILLNLIYDINW', 'KSINQILLNILYDLNW', 'KSINQILLNILYDINW', 'KSINQILLNIIYDLNW', 'KSINQILLNIIYDINW', 'KSINQILINLLYDLNW', 'KSINQILINLLYDINW', 'KSINQILINLIYDLNW', 'KSINQILINLIYDINW', 'KSINQILINILYDLNW', 'KSINQILINILYDINW', 'KSINQILINIIYDLNW', 'KSINQILINIIYDINW', 'KSINQIILNLLYDLNW', 'KSINQIILNLLYDINW', 'KSINQIILNLIYDLNW', 'KSINQIILNLIYDINW', 'KSINQIILNILYDLNW', 'KSINQIILNILYDINW', 'KSINQIILNIIYDLNW', 'KSINQIILNIIYDINW', 'KSINQIIINLLYDLNW', 'KSINQIIINLLYDINW', 'KSINQIIINLIYDLNW', 'KSINQIIINLIYDINW', 'KSINQIIINILYDLNW', 'KSINQIIINILYDINW', 'KSINQIIINIIYDLNW', 'KSINQIIINIIYDINW', 'KSINKLLLNLLYDLNW', 'KSINKLLLNLLYDINW', 'KSINKLLLNLIYDLNW', 'KSINKLLLNLIYDINW', 'KSINKLLLNILYDLNW', 'KSINKLLLNILYDINW', 'KSINKLLLNIIYDLNW', 'KSINKLLLNIIYDINW', 'KSINKLLINLLYDLNW', 'KSINKLLINLLYDINW', 'KSINKLLINLIYDLNW', 'KSINKLLINLIYDINW', 'KSINKLLINILYDLNW', 'KSINKLLINILYDINW', 'KSINKLLINIIYDLNW', 'KSINKLLINIIYDINW', 'KSINKLILNLLYDLNW', 'KSINKLILNLLYDINW', 'KSINKLILNLIYDLNW', 'KSINKLILNLIYDINW', 'KSINKLILNILYDLNW', 'KSINKLILNILYDINW', 'KSINKLILNIIYDLNW', 'KSINKLILNIIYDINW', 'KSINKLIINLLYDLNW', 'KSINKLIINLLYDINW', 'KSINKLIINLIYDLNW', 'KSINKLIINLIYDINW', 'KSINKLIINILYDLNW', 'KSINKLIINILYDINW', 'KSINKLIINIIYDLNW', 'KSINKLIINIIYDINW', 'KSINKILLNLLYDLNW', 'KSINKILLNLLYDINW', 'KSINKILLNLIYDLNW', 'KSINKILLNLIYDINW', 'KSINKILLNILYDLNW', 'KSINKILLNILYDINW', 'KSINKILLNIIYDLNW', 'KSINKILLNIIYDINW', 'KSINKILINLLYDLNW', 'KSINKILINLLYDINW', 'KSINKILINLIYDLNW', 'KSINKILINLIYDINW', 'KSINKILINILYDLNW', 'KSINKILINILYDINW', 'KSINKILINIIYDLNW', 'KSINKILINIIYDINW', 'KSINKIILNLLYDLNW', 'KSINKIILNLLYDINW', 'KSINKIILNLIYDLNW', 'KSINKIILNLIYDINW', 'KSINKIILNILYDLNW', 'KSINKIILNILYDINW', 'KSINKIILNIIYDLNW', 'KSINKIILNIIYDINW', 'KSINKIIINLLYDLNW', 'KSINKIIINLLYDINW', 'KSINKIIINLIYDLNW', 'KSINKIIINLIYDINW', 'KSINKIIINILYDLNW', 'KSINKIIINILYDINW', 'KSINKIIINIIYDLNW', 'KSINKIIINIIYDINW']\n"
     ]
    }
   ],
   "source": [
    "# lec 19 OG function\n",
    "def TheoreticalSpectrum(peptide):\n",
    "    # Generate every possible fragment of a peptide\n",
    "    spectrum = set()\n",
    "    for fragLength in range(1,len(peptide)+1):\n",
    "        for start in range(0,len(peptide)-fragLength+1):\n",
    "            seq = peptide[start:start+fragLength]\n",
    "            spectrum.add(sum([Daltons[res] for res in seq]))\n",
    "    return sorted(spectrum)\n",
    "\n",
    "# from lec 20\n",
    "def LeaderboardFindPeptide(noisySpectrum, cutThreshold=0.05):\n",
    "    # Golf Tournament Heuristic\n",
    "    spectrum = set(noisySpectrum)\n",
    "    target = max(noisySpectrum)\n",
    "    players = [''.join(peptide) for peptide in itertools.product(Daltons.keys(), repeat=2)]\n",
    "    round = 1\n",
    "    currentLeader = [0.0, '']\n",
    "    while True:\n",
    "        print(\"%8d Players in round %d [%5.4f]\" % (len(players), round, currentLeader[0]))\n",
    "        leaderboard = []\n",
    "        for prefix in players:\n",
    "            testSpectrum = set(TheoreticalSpectrum(prefix))\n",
    "            totalWeight = max(testSpectrum)\n",
    "            score = len(spectrum & testSpectrum)/float(len(spectrum | testSpectrum))\n",
    "            if (score > currentLeader[0]):\n",
    "                currentLeader = [score, prefix]\n",
    "            elif (score == currentLeader[0]):\n",
    "                currentLeader += [prefix]\n",
    "            if (totalWeight < target):\n",
    "                leaderboard.append((score, prefix))\n",
    "        remaining = len(leaderboard)\n",
    "        if (remaining == 0):\n",
    "            print(\"Done, no sequences can be extended\")\n",
    "            break\n",
    "        leaderboard.sort(reverse=True)\n",
    "        # Prune the larger of the top 5% or the top 5 players\n",
    "        cut = leaderboard[max(min(5,remaining-1),int(remaining*cutThreshold))][0]\n",
    "        players = [p+r for s, p in leaderboard if s >= cut for r in Daltons.keys()]\n",
    "        round += 1\n",
    "    return currentLeader\n",
    "\n",
    "%time winners = LeaderboardFindPeptide(Experimental)\n",
    "print(winners)"
   ]
  },
  {
   "cell_type": "code",
   "execution_count": 56,
   "metadata": {},
   "outputs": [
    {
     "name": "stdout",
     "output_type": "stream",
     "text": [
      "[221]\n"
     ]
    }
   ],
   "source": [
    "subpep = []\n",
    "# need to start at 1 b/c first value of winners is a number\n",
    "for x in range(1, len(winners)):\n",
    "    if(winners[x] in orf6):\n",
    "        subpep.append(x)\n",
    "print(subpep)"
   ]
  },
  {
   "cell_type": "code",
   "execution_count": 52,
   "metadata": {},
   "outputs": [
    {
     "name": "stdout",
     "output_type": "stream",
     "text": [
      "WNLDYIINLIIKNLSK\n"
     ]
    }
   ],
   "source": [
    "print(winners[221])"
   ]
  },
  {
   "cell_type": "raw",
   "metadata": {
    "number": 5,
    "section": "answer"
   },
   "source": [
    "Enter the sequence of the subpeptide: WNLDYIINLIIKNLSK"
   ]
  },
  {
   "cell_type": "markdown",
   "metadata": {
    "section": "submit"
   },
   "source": [
    "---\n",
    "\n",
    "## Instructions for submitting your problem set\n",
    "\n",
    "When you are ready to submit a version of your problem set, follow the instructions below.\n",
    "\n",
    "1. Press [Save and Checkpoint] on the *File* menu of your Jupyter notebook.\n",
    "2. Press the link below, which will take you to a website for submitting your problem set.\n",
    "3. Choose the ***correct problem set number*** from the pull-down, else you might overwrite an earlier submission.\n",
    "4. Enter in your onyen and PID in the form provided, then upload your submission.\n",
    "\n",
    "Click [here to submit](http://csbio.unc.edu/mcmillan/index.py?run=PS.upload) your completed problem set\n",
    "\n",
    "**Instructions for resubmissions:**\n",
    "\n",
    "1. You may resubmit as many times as you like before the deadline. \n",
    "2. Resubmissions *always* overwrite any earlier submissions. \n",
    "3. If you resubmit after the due date, you will be warned of any penalties. \n",
    "4. Problem sets will not be regraded."
   ]
  }
 ],
 "metadata": {
  "anaconda-cloud": {},
  "celltoolbar": "Edit Metadata",
  "kernelspec": {
   "display_name": "Python 3",
   "language": "python",
   "name": "python3"
  },
  "language_info": {
   "codemirror_mode": {
    "name": "ipython",
    "version": 3
   },
   "file_extension": ".py",
   "mimetype": "text/x-python",
   "name": "python",
   "nbconvert_exporter": "python",
   "pygments_lexer": "ipython3",
   "version": "3.8.5"
  }
 },
 "nbformat": 4,
 "nbformat_minor": 1
}
