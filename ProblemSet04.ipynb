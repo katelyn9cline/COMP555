{
 "cells": [
  {
   "cell_type": "markdown",
   "metadata": {
    "section": "header"
   },
   "source": [
    "---\n",
    "<div style=\"text-align: center;\">\n",
    "<h1>The University of North Carolina at Chapel Hill</h1>\n",
    "<h1>Comp 555 BioAlgorithms - Spring 2021</h1>\n",
    "<h1 style=\"font-size: 250%;\">Problem Set #4</h1>\n",
    "<h1>Issued Tuesday, 4/1/2021; Due Tuesday, 4/15/2021</h1>\n",
    "</div>\n",
    "\n",
    "**Homework Information:** Some of the problems are probably too long to be done the night before the due date, so plan accordingly. Feel free to get help from others, but **the work you submit in should be your own.** Furthermore, this assignment will overlap Problem Set #5, so plan accordingly. \n",
    "\n",
    "**Warning:** This notebook has been annotated with metadata so that it can be uploaded to the grading system. It is very important that you enter your answers in the provided cells. You can add extra cells to explore approaches, but only the provided cell can and will be graded. Thus, if you delete a cell and add a replacement, there is a possiblity that your problem will not be graded. If you ever need to start over, you should download a new version of the problem set and transfer your solutions to it."
   ]
  },
  {
   "cell_type": "code",
   "execution_count": 1,
   "metadata": {
    "section": "signature"
   },
   "outputs": [],
   "source": [
    "# Replace the following string values with the requested information\n",
    "class Student:\n",
    "    first = \"Katelyn\"\n",
    "    last = \"Cline\"\n",
    "    onyen = \"katelyn9\"\n",
    "    pid = \"730152239\""
   ]
  },
  {
   "cell_type": "markdown",
   "metadata": {},
   "source": [
    "The following problems make use of the following Insulin protein sequences"
   ]
  },
  {
   "cell_type": "code",
   "execution_count": 2,
   "metadata": {},
   "outputs": [],
   "source": [
    "human = \"MALWMRLLPLLALLALWGPDPAAAFVNQHLCGSHLVEALYLVCGERGFFYTPKTRREAEDLQGSLQPLALEGSLQKRGIVEQCCTSICSLYQLENYCN\"\n",
    "dog = \"MALWMRLLPLLALLALWAPAPTRAFVNQHLCGSHLVEALYLVCGERGFFYTPKARREVEDLQVRDVELAGAPGEGGLQPLALEGALQKRGIVEQCCTSICSLYQLENYCN\""
   ]
  },
  {
   "cell_type": "markdown",
   "metadata": {
    "number": 1,
    "section": "problem"
   },
   "source": [
    "---\n",
    "**Problem #1:** Find the longest common subsequence (LCS) shared between human and dog insulin, its length, and the alignment that it implies."
   ]
  },
  {
   "cell_type": "code",
   "execution_count": 96,
   "metadata": {},
   "outputs": [],
   "source": [
    "# from lecture 16 code\n",
    "from numpy import *\n",
    "\n",
    "def findLCS(v, w):\n",
    "    score = zeros((len(v)+1,len(w)+1), dtype=\"int32\")\n",
    "    backt = zeros((len(v)+1,len(w)+1), dtype=\"int32\")\n",
    "    for i in range(1,len(v)+1):\n",
    "        for j in range(1,len(w)+1):\n",
    "            # find best score at each vertex\n",
    "            if (v[i-1] == w[j-1]):  # test for a match (\"diagonal street\")\n",
    "                score[i,j], backt[i,j] = max((score[i-1,j-1]+1,3), (score[i-1,j],1), (score[i,j-1],2))\n",
    "            else:\n",
    "                score[i,j], backt[i,j] = max((score[i-1,j],1), (score[i,j-1],2))\n",
    "    return score, backt\n",
    "\n",
    "def LCS(b,v,i,j):\n",
    "    if ((i == 0) and (j == 0)):\n",
    "        return ''\n",
    "    elif (b[i,j] == 3):\n",
    "        return LCS(b,v,i-1,j-1) + v[i-1]\n",
    "    elif (b[i,j] == 2):\n",
    "        return LCS(b,v,i,j-1)\n",
    "    else:\n",
    "        return LCS(b,v,i-1,j)\n",
    "    \n",
    "def Alignment(b,v,w,i,j):\n",
    "    if ((i == 0) and (j == 0)):\n",
    "        return ['','']\n",
    "    if (b[i,j] == 3):\n",
    "        result = Alignment(b,v,w,i-1,j-1)\n",
    "        result[0] += v[i-1]\n",
    "        result[1] += w[j-1]\n",
    "        return result\n",
    "    if (b[i,j] == 2):\n",
    "        result = Alignment(b,v,w,i,j-1)\n",
    "        result[0] += \"_\"\n",
    "        result[1] += w[j-1]\n",
    "        return result\n",
    "    if (b[i,j] == 1):\n",
    "        result = Alignment(b,v,w,i-1,j)\n",
    "        result[0] += v[i-1]\n",
    "        result[1] += \"_\"\n",
    "        return result"
   ]
  },
  {
   "cell_type": "code",
   "execution_count": 97,
   "metadata": {},
   "outputs": [
    {
     "name": "stdout",
     "output_type": "stream",
     "text": [
      "LCS: MALWMRLLPLLALLALWAAAFVNQHLCGSHLVEALYLVCGERGFFYTPKRREEDLQGLQPLALEGLQKRGIVEQCCTSICSLYQLENYCN\n",
      "Length of LCS: 90\n",
      "h = MALWMRLLPLLALLALWGPDPA_A___AFVNQHLCGSHLVEALYLVCGERGFFYTPKT_RREA_EDLQ_______GS______LQPLALEGS_LQKRGIVEQCCTSICSLYQLENYCN\n",
      "d = MALWMRLLPLLALLALW____APAPTRAFVNQHLCGSHLVEALYLVCGERGFFYTPK_ARRE_VEDLQVRDVELAG_APGEGGLQPLALEG_ALQKRGIVEQCCTSICSLYQLENYCN\n"
     ]
    }
   ],
   "source": [
    "s, b = findLCS(human, dog)\n",
    "lcs = LCS(b,human,b.shape[0]-1,b.shape[1]-1)\n",
    "print(\"LCS:\", lcs)\n",
    "print(\"Length of LCS:\", len(lcs))\n",
    "align = Alignment(b,human,dog,b.shape[0]-1,b.shape[1]-1)\n",
    "lcsHuman = align[0]\n",
    "lcsDog = align[1]\n",
    "print(\"h =\", align[0])\n",
    "print(\"d =\", align[1])"
   ]
  },
  {
   "cell_type": "raw",
   "metadata": {
    "number": 1,
    "section": "answer"
   },
   "source": [
    "Longest Common Subsequence: MALWMRLLPLLALLALWAAAFVNQHLCGSHLVEALYLVCGERGFFYTPKRREEDLQGLQPLALEGLQKRGIVEQCCTSICSLYQLENYCN\n",
    "Length of LCS: 90\n",
    "Give your alignment below in the format shown:\n",
    "human: MALWMRLLPLLALLALWGPDPA_A___AFVNQHLCGSHLVEALYLVCGERGFFYTPKT_RREA_EDLQ_______GS______LQPLALEGS_LQKRGIVEQCCTSICSLYQLENYCN\n",
    "  dog: MALWMRLLPLLALLALW____APAPTRAFVNQHLCGSHLVEALYLVCGERGFFYTPK_ARRE_VEDLQVRDVELAG_APGEGGLQPLALEG_ALQKRGIVEQCCTSICSLYQLENYCN"
   ]
  },
  {
   "cell_type": "markdown",
   "metadata": {
    "number": 2,
    "section": "problem"
   },
   "source": [
    "---\n",
    "**Problem #2:** Find the best *global alignment* between human and dog insulin assuming the following scoring from the \"Alignment Game\" described in Lecture 15, slide 4:\n",
    "\n",
    "* +1 for a match\n",
    "* 0 for a mismatch\n",
    "* -1 for an indel\n",
    "\n",
    "What is score for this alignment and the alignment itself? "
   ]
  },
  {
   "cell_type": "code",
   "execution_count": 98,
   "metadata": {},
   "outputs": [
    {
     "name": "stdout",
     "output_type": "stream",
     "text": [
      "Best score = 78\n",
      "human = MALWMRLLPLLALLALWGPDPAAAFVNQHLCGSHLVEALYLVCGERGFFYTPKTRREAEDLQ_______GS_____LQPLALEGSLQKRGIVEQCCTSICSLYQLENYCN\n",
      "dog = MALWMRLLPLLALLALWAPAPTRAFVNQHLCGSHLVEALYLVCGERGFFYTPKARREVEDLQVRDVELAGAPGEGGLQPLALEGALQKRGIVEQCCTSICSLYQLENYCN\n"
     ]
    }
   ],
   "source": [
    "# from lecture 17\n",
    "# need to either make an ugly score matrix with all the proteins where matches equal 1 and mismatches equal 0 and indel\n",
    "    # equals -1\n",
    "# OR actually understand code and matrix and set up score to do comparisons and add 1 if equal and subtract 1 if indel\n",
    "\n",
    "import numpy\n",
    "\n",
    "def GlobalAlign(v, w, indel):\n",
    "    s = numpy.zeros((len(v)+1,len(w)+1), dtype=\"int32\")\n",
    "    b = numpy.zeros((len(v)+1,len(w)+1), dtype=\"int32\")\n",
    "    for i in range(0,len(v)+1):\n",
    "        for j in range(0,len(w)+1):\n",
    "            if (j == 0):\n",
    "                if (i > 0):\n",
    "                    s[i,j] = s[i-1,j] + indel\n",
    "                    b[i,j] = 1\n",
    "                continue\n",
    "            if (i == 0):\n",
    "                s[i,j] = s[i,j-1] + indel\n",
    "                b[i,j] = 2\n",
    "                continue\n",
    "#            score = s[i-1,j-1] + scorematrix[v[i-1],w[j-1]]\n",
    "            score = s[i-1,j-1]\n",
    "            if(v[i-1] == w[j-1]):\n",
    "                score += 1\n",
    "            vskip = s[i-1,j] + indel\n",
    "            wskip = s[i,j-1] + indel\n",
    "            s[i,j] = max(vskip, wskip, score)\n",
    "            if (s[i,j] == vskip):\n",
    "                b[i,j] = 1\n",
    "            elif (s[i,j] == wskip):\n",
    "                b[i,j] = 2\n",
    "            else:\n",
    "                b[i,j] = 3\n",
    "    return (s, b)\n",
    "\n",
    "x, y = GlobalAlign(human,dog, -1)\n",
    "print(\"Best score =\", x[-1,-1])\n",
    "align = Alignment(y,human,dog,y.shape[0]-1,y.shape[1]-1)\n",
    "globalHuman = align[0]\n",
    "globalDog = align[1]\n",
    "print(\"human =\", align[0])\n",
    "print(\"dog =\", align[1])"
   ]
  },
  {
   "cell_type": "raw",
   "metadata": {
    "number": 2,
    "section": "answer"
   },
   "source": [
    "Alignment score: 78\n",
    "Give your alignment below in the format shown:\n",
    "human: MALWMRLLPLLALLALWGPDPAAAFVNQHLCGSHLVEALYLVCGERGFFYTPKTRREAEDLQ_______GS_____LQPLALEGSLQKRGIVEQCCTSICSLYQLENYCN\n",
    "  dog: MALWMRLLPLLALLALWAPAPTRAFVNQHLCGSHLVEALYLVCGERGFFYTPKARREVEDLQVRDVELAGAPGEGGLQPLALEGALQKRGIVEQCCTSICSLYQLENYCN"
   ]
  },
  {
   "cell_type": "markdown",
   "metadata": {
    "number": 3,
    "section": "problem"
   },
   "source": [
    "**Problem #3:** According to the rules of the \"Alignment Game\", what score does your alignment from **Problem 1** achieve? How would the rules of the alignment game need to be changed so that your solution for **Problem 1** would be the optimal answer?"
   ]
  },
  {
   "cell_type": "code",
   "execution_count": 99,
   "metadata": {},
   "outputs": [
    {
     "name": "stdout",
     "output_type": "stream",
     "text": [
      "LCS:  90\n",
      "Global:  82\n"
     ]
    }
   ],
   "source": [
    "def AlignmentGame(h, d):\n",
    "    score = 0\n",
    "    for i in range(len(h)):\n",
    "        if(h[i] == '_' or d[i] == '_'):\n",
    "            #indel\n",
    "            score += 0\n",
    "        elif(h[i] == d[i]):\n",
    "            #match\n",
    "            score += 1\n",
    "        else:\n",
    "            #mismatch\n",
    "            score += -1\n",
    "    return score\n",
    "lcsScore = AlignmentGame(lcsHuman, lcsDog)\n",
    "globalScore = AlignmentGame(globalHuman, globalDog)\n",
    "\n",
    "\n",
    "print(\"LCS: \",lcsScore)\n",
    "print(\"Global: \", globalScore)\n"
   ]
  },
  {
   "cell_type": "raw",
   "metadata": {
    "number": 3,
    "section": "answer"
   },
   "source": [
    "Score of LCS alignment in game: 62\n",
    "Write below the rule change for which the LCS alignment would be optimal: If the point values for an indel and a mismatch are switched, so an indel would be worth 0 points and a mismatch would be worth -1 points, then the LCS alignment gets a score of 90 and the global alignment gets a score of 82. This rule switch makes LCS seem better than global alignment. "
   ]
  },
  {
   "cell_type": "markdown",
   "metadata": {
    "number": 4,
    "section": "problem"
   },
   "source": [
    "---\n",
    "**Problem #4:** Find the length of the longest *embedded* common subsequence in the **human** insulin sequence.\n",
    "\n",
    "The longest embedded common subsequence is the longest subsequence that appears twice in a single given sequence for which no symbol matches itself. As an example, consider \"TAGACTAAG\". The longest common subsequence is the sequence itself, \"TAGACTAAG\", but the longest *embedded* common subsequence is \"TAG\". "
   ]
  },
  {
   "cell_type": "code",
   "execution_count": 102,
   "metadata": {},
   "outputs": [],
   "source": [
    "def modifyFindLCS(v, w):\n",
    "    score = zeros((len(v)+1,len(w)+1), dtype=\"int32\")\n",
    "    backt = zeros((len(v)+1,len(w)+1), dtype=\"int32\")\n",
    "    for i in range(1,len(v)+1):\n",
    "        for j in range(1,len(w)+1):\n",
    "            # find best score at each vertex\n",
    "            if (v[i-1] == w[j-1] and i != j):  # test for a match at different indices\n",
    "                score[i,j], backt[i,j] = max((score[i-1,j-1]+1,3), (score[i-1,j],1), (score[i,j-1],2))\n",
    "            else:\n",
    "                score[i,j], backt[i,j] = max((score[i-1,j],1), (score[i,j-1],2))\n",
    "    return score, backt\n",
    "\n",
    "locations = []\n",
    "def modifyLCS(b,v,i,j):\n",
    "    if ((i == 0) and (j == 0)):\n",
    "        # print('00')\n",
    "        return ''\n",
    "    elif (b[i,j] == 3):\n",
    "        # print(j-1, i-1, v[i-1])\n",
    "        locations.append((j-1, i-1, v[i-1]))\n",
    "        return modifyLCS(b,v,i-1,j-1) + v[i-1]\n",
    "    elif (b[i,j] == 2):\n",
    "        # print('2')\n",
    "        return modifyLCS(b,v,i,j-1)\n",
    "    else:\n",
    "        # print('0 or 1')\n",
    "        return modifyLCS(b,v,i-1,j)\n"
   ]
  },
  {
   "cell_type": "code",
   "execution_count": 103,
   "metadata": {},
   "outputs": [
    {
     "name": "stdout",
     "output_type": "stream",
     "text": [
      "LCS: MLLLLLALALGAVCGEGFTREAEGSLQESICSLYN\n",
      "35\n"
     ]
    }
   ],
   "source": [
    "s, b = modifyFindLCS(human, human)\n",
    "lcs = modifyLCS(b,human,b.shape[0]-1,b.shape[1]-1)\n",
    "print(\"LCS:\", lcs)\n",
    "print(len(lcs))"
   ]
  },
  {
   "cell_type": "code",
   "execution_count": 104,
   "metadata": {},
   "outputs": [],
   "source": [
    "#test = \"TAGACTAAG\"\n",
    "#s, b = modifyFindLCS(test, test)\n",
    "#print(s)\n",
    "#print(b)\n",
    "#print(b.shape[0]-1)\n",
    "#print(b.shape[1]-1)\n",
    "#lcs = modifyLCS(b,test,b.shape[0]-1,b.shape[1]-1)\n",
    "#print(\"LCS:\", lcs)\n"
   ]
  },
  {
   "cell_type": "raw",
   "metadata": {
    "number": 4,
    "section": "answer"
   },
   "source": [
    "Enter your subsequence here: MLLLLLALALGAVCGEGFTREAEGSLQESICSLYN"
   ]
  },
  {
   "cell_type": "markdown",
   "metadata": {
    "number": 5,
    "section": "problem"
   },
   "source": [
    "**Problem #5:** Output the longest embedded common subsequence from the string given in **Problem #4** in the following comma separated format:\n",
    "\n",
    "    positionInFirstSubsequence, positionInSecondSubsequence, commonSymbol\n",
    "    \n",
    "with one symbol per line. For \"TAGACTAAG\" the output could be:\n",
    "\n",
    "    0,5,T\n",
    "    1,7,A\n",
    "    2,8,G\n"
   ]
  },
  {
   "cell_type": "code",
   "execution_count": 105,
   "metadata": {},
   "outputs": [
    {
     "name": "stdout",
     "output_type": "stream",
     "text": [
      "(0, 4, 'M')\n",
      "(2, 7, 'L')\n",
      "(6, 9, 'L')\n",
      "(7, 10, 'L')\n",
      "(9, 12, 'L')\n",
      "(10, 13, 'L')\n",
      "(11, 14, 'A')\n",
      "(12, 15, 'L')\n",
      "(14, 23, 'A')\n",
      "(15, 29, 'L')\n",
      "(17, 31, 'G')\n",
      "(21, 37, 'A')\n",
      "(25, 41, 'V')\n",
      "(30, 42, 'C')\n",
      "(31, 43, 'G')\n",
      "(36, 44, 'E')\n",
      "(43, 46, 'G')\n",
      "(47, 48, 'F')\n",
      "(50, 53, 'T')\n",
      "(54, 55, 'R')\n",
      "(56, 58, 'E')\n",
      "(57, 68, 'A')\n",
      "(58, 70, 'E')\n",
      "(62, 71, 'G')\n",
      "(63, 72, 'S')\n",
      "(64, 73, 'L')\n",
      "(65, 74, 'Q')\n",
      "(70, 80, 'E')\n",
      "(72, 85, 'S')\n",
      "(78, 86, 'I')\n",
      "(83, 87, 'C')\n",
      "(85, 88, 'S')\n",
      "(89, 92, 'L')\n",
      "(90, 95, 'Y')\n",
      "(94, 97, 'N')\n"
     ]
    }
   ],
   "source": [
    "locations.reverse()\n",
    "for x in locations:\n",
    "    print(x)    "
   ]
  },
  {
   "cell_type": "raw",
   "metadata": {
    "number": 5,
    "section": "answer"
   },
   "source": [
    "Enter your answer below:\n",
    "(0, 4, 'M')\n",
    "(2, 7, 'L')\n",
    "(6, 9, 'L')\n",
    "(7, 10, 'L')\n",
    "(9, 12, 'L')\n",
    "(10, 13, 'L')\n",
    "(11, 14, 'A')\n",
    "(12, 15, 'L')\n",
    "(14, 23, 'A')\n",
    "(15, 29, 'L')\n",
    "(17, 31, 'G')\n",
    "(21, 37, 'A')\n",
    "(25, 41, 'V')\n",
    "(30, 42, 'C')\n",
    "(31, 43, 'G')\n",
    "(36, 44, 'E')\n",
    "(43, 46, 'G')\n",
    "(47, 48, 'F')\n",
    "(50, 53, 'T')\n",
    "(54, 55, 'R')\n",
    "(56, 58, 'E')\n",
    "(57, 68, 'A')\n",
    "(58, 70, 'E')\n",
    "(62, 71, 'G')\n",
    "(63, 72, 'S')\n",
    "(64, 73, 'L')\n",
    "(65, 74, 'Q')\n",
    "(70, 80, 'E')\n",
    "(72, 85, 'S')\n",
    "(78, 86, 'I')\n",
    "(83, 87, 'C')\n",
    "(85, 88, 'S')\n",
    "(89, 92, 'L')\n",
    "(90, 95, 'Y')\n",
    "(94, 97, 'N')"
   ]
  },
  {
   "cell_type": "markdown",
   "metadata": {
    "section": "submit"
   },
   "source": [
    "---\n",
    "\n",
    "## Instructions for submitting your problem set\n",
    "\n",
    "When you are ready to submit a version of your problem set, follow the instructions below.\n",
    "\n",
    "1. Press [Save and Checkpoint] on the *File* menu of your Jupyter notebook.\n",
    "2. Press the link below, which will take you to a website for submitting your problem set.\n",
    "3. Choose the ***correct problem set number*** from the pull-down, else you might overwrite an earlier submission.\n",
    "4. Enter in your onyen and PID in the form provided, then upload your submission.\n",
    "\n",
    "Click [here to submit](http://csbio.unc.edu/mcmillan/index.py?run=PS.upload) your completed problem set\n",
    "\n",
    "**Instructions for resubmissions:**\n",
    "\n",
    "1. You may resubmit as many times as you like before the deadline. \n",
    "2. Resubmissions *always* overwrite any earlier submissions. \n",
    "3. If you resubmit after the due date, you will be warned of any penalties. \n",
    "4. Problem sets will not be regraded."
   ]
  }
 ],
 "metadata": {
  "anaconda-cloud": {},
  "kernelspec": {
   "display_name": "Python 3",
   "language": "python",
   "name": "python3"
  },
  "language_info": {
   "codemirror_mode": {
    "name": "ipython",
    "version": 3
   },
   "file_extension": ".py",
   "mimetype": "text/x-python",
   "name": "python",
   "nbconvert_exporter": "python",
   "pygments_lexer": "ipython3",
   "version": "3.8.5"
  }
 },
 "nbformat": 4,
 "nbformat_minor": 1
}
