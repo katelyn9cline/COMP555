{
 "cells": [
  {
   "cell_type": "markdown",
   "metadata": {
    "section": "header"
   },
   "source": [
    "<div style=\"text-align: center;\">\n",
    "<h1>The University of North Carolina at Chapel Hill</h1>\n",
    "<h1>Comp 555 BioAlgorithms - Spring 2021</h1>\n",
    "<h1 style=\"font-size: 250%;\">Problem Set #1 </h1>\n",
    "<h1 style=\"font-size: 150%;\">Version 1.0</h1>\n",
    "<h1>Issued Tuesday, 2/2/2021; Due Thursday, 2/18/2021</h1>\n",
    "</div>\n",
    "\n",
    "**Homework Information:** Some of the problems are probably too long to be done the night before the due date, so plan accordingly. Late problem sets will not be accepted. Feel free to get help from others, but **the work you submit in should be your own.** It is very important that you enter your answers in the provided cells. You can add extra cells to explore approaches, but only the provided cell can and will be graded.\n",
    "\n",
    "**Warning:** This notebook has been annotated with metadata so that it can be uploaded to the grading system. Thus, if you delete a cell and add a replacement, there is a possiblity that your problem will not be graded. If you ever need to start over, you should download a new version of the problem set and transfer your solutions to it."
   ]
  },
  {
   "cell_type": "code",
   "execution_count": 1,
   "metadata": {
    "section": "signature"
   },
   "outputs": [],
   "source": [
    "# Replace the following string values with the requested information\n",
    "# Leave the quotation marks surronding the string!\n",
    "class Student:\n",
    "    first = \"Katelyn\"\n",
    "    last = \"Cline\"\n",
    "    onyen = \"katelyn9\"\n",
    "    pid = \"730152239\""
   ]
  },
  {
   "cell_type": "markdown",
   "metadata": {
    "section": "setup"
   },
   "source": [
    "This problem set will examine the viral genome <a href=\"http://csbio.unc.edu/mcmillan/Comp555S21/data/SARS_CoV-2.fa\" download=\"SARS_CoV-2.fa\">SARS_CoV-2.fa</a>, the <a href=\"http://csbio.unc.edu/mcmillan/Comp555S21/data/GCA_000001405.15_GRCh38_genomic.fna\" download=\"GCA_000001405.15_GRCh38_genomic.fna\">human genome</a>, and the Long Terminal Repeat sequence from HERV-K, <a href=\"http://csbio.unc.edu/mcmillan/Comp555S21/data/LTR14A.fa\" download=\"LTR14A.fa\">LTR14A.fa</a>.\n",
    "\n",
    "The cell below provides various functions and imports necessary for this problem set. Do not import any addtional packages. Also, make sure that you ***run the following cell***."
   ]
  },
  {
   "cell_type": "code",
   "execution_count": 2,
   "metadata": {
    "section": "givencode"
   },
   "outputs": [],
   "source": [
    "import gzip\n",
    "import itertools\n",
    "import math\n",
    "%matplotlib inline\n",
    "import matplotlib\n",
    "import matplotlib.pyplot as plt\n",
    "\n",
    "def loadFasta(filename):\n",
    "    \"\"\" Parses a classically formatted and possibly \n",
    "        compressed FASTA file into two lists. One of \n",
    "        headers and a second list of sequences.\n",
    "        The ith index of each list correspond.\"\"\"\n",
    "    if (filename.endswith(\".gz\")):\n",
    "        fp = gzip.open(filename, 'r')\n",
    "    else:\n",
    "        fp = open(filename, 'r')\n",
    "    # split at headers\n",
    "    data = fp.read().split('>')\n",
    "    fp.close()\n",
    "    # ignore whatever appears before the 1st header\n",
    "    data.pop(0)     \n",
    "    headers = []\n",
    "    sequences = []\n",
    "    for sequence in data:\n",
    "        lines = sequence.split('\\n')\n",
    "        headers.append(lines.pop(0))\n",
    "        # add an extra \"+\" to make string \"1-referenced\"\n",
    "        sequences.append('+' + ''.join(lines))\n",
    "    return (headers, sequences)"
   ]
  },
  {
   "cell_type": "markdown",
   "metadata": {
    "number": 1,
    "section": "problem"
   },
   "source": [
    "---\n",
    "**Problem #1:**\n",
    "\n",
    "Write a function that produces a list of ***missing*** <em>k</em>-mers from a given sequence. If all possible *k*-mers are present the fnctions should return an empty list. A template for the function is provided in the cell below, you should modify it in your answer. This cell should include ***only your function*** definition and no other code. A cell for testing is provided after."
   ]
  },
  {
   "cell_type": "code",
   "execution_count": 3,
   "metadata": {
    "number": 1,
    "section": "answer"
   },
   "outputs": [],
   "source": [
    "# This cell is graded\n",
    "def MissingKmers(dnaseq, k):\n",
    "    \"\"\" Returns a list of missing k-mers in \"dnaseq\", for the given value of \"k\".\n",
    "        The cahracters of the string \"dnaseq\" is from the alphabet \"ACGT\" \"\"\"\n",
    "    missing  = []\n",
    "    possible = []\n",
    "    \n",
    "    #create dictionary of present kmers\n",
    "    kmerDict = {}\n",
    "    for i in range(1,len(dnaseq)-k+1):\n",
    "        kmer = dnaseq[i:i+k]\n",
    "        kmerDict[kmer] = kmerDict.get(kmer,0) + 1\n",
    "    \n",
    "    # if length of kmerDict equals 4^k then all possible kmers are present and none are missing\n",
    "    if (len(kmerDict) == (4**k)):\n",
    "        return missing\n",
    "    else:\n",
    "        #create all the possible k-mers\n",
    "        for number in itertools.product((\"A\", \"C\", \"G\", \"T\"), repeat = k):\n",
    "            possible.append(''.join(number))\n",
    "        for x in possible:\n",
    "            if x not in kmerDict.keys():\n",
    "                missing.append(x)\n",
    "  \n",
    "    return missing"
   ]
  },
  {
   "cell_type": "markdown",
   "metadata": {
    "number": 1,
    "section": "workspace"
   },
   "source": [
    "The following cell below is provided for testing your code. You should test it on SARS-Cov-2.fa using the following values for k, [4,5,6], and compare your answers to the predictions from Lecture 2. This cell will not be considered during grading."
   ]
  },
  {
   "cell_type": "code",
   "execution_count": 4,
   "metadata": {
    "number": 1,
    "section": "workcode"
   },
   "outputs": [
    {
     "name": "stdout",
     "output_type": "stream",
     "text": [
      "1\n",
      "['CGGGG']\n",
      "Wall time: 20 ms\n",
      "['AA', 'AC', 'AG', 'AT', 'CA', 'CC', 'CG', 'CT', 'GA', 'GC', 'GG', 'GT', 'TA', 'TC', 'TG', 'TT']\n",
      "16\n"
     ]
    }
   ],
   "source": [
    "header, seq = loadFasta(\"data/SARS-CoV-2.fa\")\n",
    "print(len(MissingKmers(seq[0], 5)))\n",
    "%time print(MissingKmers(seq[0], 5))\n",
    "# print(seq[0])\n",
    "\n",
    "poss = []\n",
    "for number in itertools.product((\"A\", \"C\", \"G\", \"T\"), repeat = 2):\n",
    "    poss.append(''.join(number))\n",
    "print(poss)\n",
    "print(len(poss))\n"
   ]
  },
  {
   "cell_type": "markdown",
   "metadata": {
    "number": 2,
    "section": "problem"
   },
   "source": [
    "---\n",
    "**Problem #2:**\n",
    "\n",
    "Apply your function from **Problem #1** to the sequence from Human Chromosome 1 with a *k* value of 11. Examine the list of missing k-mers and answer the following questions. How many of the possible 11-mers are missing from Chromosome 1? Comment on whether you can see any sort of pattern in these missing k-mers and what that pattern is. "
   ]
  },
  {
   "cell_type": "code",
   "execution_count": 5,
   "metadata": {
    "scrolled": false
   },
   "outputs": [
    {
     "name": "stdout",
     "output_type": "stream",
     "text": [
      "Wall time: 2min 38s\n",
      "147720\n"
     ]
    }
   ],
   "source": [
    "seq = open('data/genomes/Chr1.seq', 'r').read()\n",
    "%time missing = MissingKmers(seq, 11)\n",
    "print(len(missing))\n",
    "# print(missing)"
   ]
  },
  {
   "cell_type": "code",
   "execution_count": 6,
   "metadata": {},
   "outputs": [
    {
     "name": "stdout",
     "output_type": "stream",
     "text": [
      "{'AA': 0, 'AC': 0, 'AG': 0, 'AT': 0, 'CA': 0, 'CC': 0, 'CG': 0, 'CT': 0, 'GA': 0, 'GC': 0, 'GG': 0, 'GT': 0, 'TA': 0, 'TC': 0, 'TG': 0, 'TT': 0}\n",
      "16\n",
      "{'AA': 42895, 'AC': 84270, 'AG': 37306, 'AT': 58208, 'CA': 33862, 'CC': 52153, 'CG': 146483, 'CT': 36392, 'GA': 84344, 'GC': 98403, 'GG': 55326, 'GT': 85274, 'TA': 69498, 'TC': 79712, 'TG': 33480, 'TT': 41413}\n"
     ]
    },
    {
     "data": {
      "image/png": "[encoded data removed]",
      "text/plain": [
       "<Figure size 432x288 with 1 Axes>"
      ]
     },
     "metadata": {
      "needs_background": "light"
     },
     "output_type": "display_data"
    }
   ],
   "source": [
    "# ANALYZE MISSING 2-MERS\n",
    "\n",
    "#make all possible 2-mers\n",
    "possTwo = {}\n",
    "for number in itertools.product((\"A\", \"C\", \"G\", \"T\"), repeat = 2):\n",
    "    possTwo[''.join(number)] = 0\n",
    "print(possTwo)\n",
    "print(len(possTwo))\n",
    "\n",
    "#calculate how many of each possible 2mers are missing\n",
    "k = 2\n",
    "for kmer in missing:\n",
    "    smallKmerDict = {}\n",
    "    for i in range(1,len(kmer)-k+1):\n",
    "        km = kmer[i:i+k]\n",
    "        smallKmerDict[km] = smallKmerDict.get(km,0) + 1\n",
    "    for x in smallKmerDict:\n",
    "        possTwo[x] += 1\n",
    "print(possTwo)\n",
    "\n",
    "# plot the missing 2-mers\n",
    "plt.bar(range(len(possTwo)), list(possTwo.values()), align='center')\n",
    "plt.xticks(range(len(possTwo)), list(possTwo.keys()))\n",
    "plt.show()"
   ]
  },
  {
   "cell_type": "code",
   "execution_count": 7,
   "metadata": {},
   "outputs": [
    {
     "name": "stdout",
     "output_type": "stream",
     "text": [
      "{'AAA': 0, 'AAC': 0, 'AAG': 0, 'AAT': 0, 'ACA': 0, 'ACC': 0, 'ACG': 0, 'ACT': 0, 'AGA': 0, 'AGC': 0, 'AGG': 0, 'AGT': 0, 'ATA': 0, 'ATC': 0, 'ATG': 0, 'ATT': 0, 'CAA': 0, 'CAC': 0, 'CAG': 0, 'CAT': 0, 'CCA': 0, 'CCC': 0, 'CCG': 0, 'CCT': 0, 'CGA': 0, 'CGC': 0, 'CGG': 0, 'CGT': 0, 'CTA': 0, 'CTC': 0, 'CTG': 0, 'CTT': 0, 'GAA': 0, 'GAC': 0, 'GAG': 0, 'GAT': 0, 'GCA': 0, 'GCC': 0, 'GCG': 0, 'GCT': 0, 'GGA': 0, 'GGC': 0, 'GGG': 0, 'GGT': 0, 'GTA': 0, 'GTC': 0, 'GTG': 0, 'GTT': 0, 'TAA': 0, 'TAC': 0, 'TAG': 0, 'TAT': 0, 'TCA': 0, 'TCC': 0, 'TCG': 0, 'TCT': 0, 'TGA': 0, 'TGC': 0, 'TGG': 0, 'TGT': 0, 'TTA': 0, 'TTC': 0, 'TTG': 0, 'TTT': 0}\n",
      "64\n",
      "{'AAA': 5924, 'AAC': 19633, 'AAG': 6700, 'AAT': 10615, 'ACA': 7123, 'ACC': 18075, 'ACG': 54162, 'ACT': 9550, 'AGA': 5833, 'AGC': 13522, 'AGG': 4826, 'AGT': 9506, 'ATA': 13857, 'ATC': 22395, 'ATG': 8118, 'ATT': 10311, 'CAA': 8869, 'CAC': 10222, 'CAG': 3314, 'CAT': 7894, 'CCA': 4200, 'CCC': 7269, 'CCG': 40362, 'CCT': 4660, 'CGA': 59440, 'CGC': 60597, 'CGG': 41162, 'CGT': 52750, 'CTA': 12992, 'CTC': 10858, 'CTG': 3315, 'CTT': 6342, 'GAA': 18682, 'GAC': 32581, 'GAG': 11928, 'GAT': 24010, 'GCA': 14234, 'GCC': 17434, 'GCG': 62827, 'GCT': 13954, 'GGA': 14277, 'GGC': 17577, 'GGG': 7881, 'GGT': 18805, 'GTA': 28715, 'GTC': 31418, 'GTG': 10468, 'GTT': 20016, 'TAA': 12044, 'TAC': 27155, 'TAG': 12975, 'TAT': 13521, 'TCA': 6246, 'TCC': 12734, 'TCG': 58954, 'TCT': 5551, 'TGA': 6325, 'TGC': 13120, 'TGG': 4222, 'TGT': 6681, 'TTA': 11701, 'TTC': 16717, 'TTG': 8581, 'TTT': 5551}\n"
     ]
    },
    {
     "data": {
      "image/png": "[encoded data removed]",
      "text/plain": [
       "<Figure size 1440x576 with 1 Axes>"
      ]
     },
     "metadata": {
      "needs_background": "light"
     },
     "output_type": "display_data"
    },
    {
     "name": "stdout",
     "output_type": "stream",
     "text": [
      "ACG\n",
      "CGA\n",
      "CGC\n",
      "CGT\n",
      "GCG\n",
      "TCG\n"
     ]
    }
   ],
   "source": [
    "# ANALYZE MISSING 3-MERS\n",
    "\n",
    "#make all possible 3-mers\n",
    "possThree = {}\n",
    "for number in itertools.product((\"A\", \"C\", \"G\", \"T\"), repeat = 3):\n",
    "    possThree[''.join(number)] = 0\n",
    "print(possThree)\n",
    "print(len(possThree))\n",
    "\n",
    "#calculate how many of each possible 3mers are missing\n",
    "k = 3\n",
    "for kmer in missing:\n",
    "    smallKmerDict = {}\n",
    "    for i in range(1,len(kmer)-k+1):\n",
    "        km = kmer[i:i+k]\n",
    "        smallKmerDict[km] = smallKmerDict.get(km,0) + 1\n",
    "    for x in smallKmerDict:\n",
    "        possThree[x] += 1\n",
    "print(possThree)\n",
    "\n",
    "# plot the missing 3-mers\n",
    "fig = plt.figure(figsize=(20,8))\n",
    "plt.bar(range(len(possThree)), list(possThree.values()), align='center')\n",
    "plt.xticks(range(len(possThree)), list(possThree.keys()))\n",
    "plt.show()\n",
    "\n",
    "for x in possThree:\n",
    "    if possThree[x] > 45000:\n",
    "        print(x)"
   ]
  },
  {
   "cell_type": "raw",
   "metadata": {
    "number": 2,
    "section": "answer"
   },
   "source": [
    "\n",
    "How many 11-mers are missing? \n",
    "    147720 11-mers are missing.\n",
    "Explain any pattern that you can see in these missing k-mers: \n",
    "    I broke the missing kmers into 2- and 3-mers and analyzed which sequences were missing the most often. The 2-mer that was missing the most often was 'CG' followed by 'GC'. 'TG' is missing the least of all the 2-mers.\n",
    "    The 3-mer analysis revealed more variation in which combinations were missing. The largest spikes on the histogram were for 'ACG', 'CGA, 'CGC', 'CGT', GCG', and 'TCG'. All of these 3-mers have the 2-mer CG within them, which makes sense because the 2-mer analysis revealed that 'CG' was most missing 2-mer."
   ]
  },
  {
   "cell_type": "markdown",
   "metadata": {
    "number": 3,
    "section": "problem"
   },
   "source": [
    "---\n",
    "**Problem #3:**\n",
    "\n",
    "Given *only* the list of missing 11-mers from Problem #2, predict how many 10-mers are missing. Also, using *only* these missing 11-mers, predict a lower-bound of the number of missing 12-mers in Chromosome 1 and given a breif explaination for your prediction."
   ]
  },
  {
   "cell_type": "raw",
   "metadata": {
    "number": 3,
    "section": "answer"
   },
   "source": [
    "# This cell is graded\n",
    "How many missing 10-mers do you predict: \n",
    "    Lecture 2 slide 10 shows the progression of missing kmers for the COVID genome but if we apply the same logic here, as you go from missing 11-mers to 10-mers, there is about a 75% reduction in missing kmers. So if we have 147720 missing 11-mers, then I predict there will be about 36930 missing 10-mers.\n",
    "    \n",
    "What is the fewest number of missing 12-mers possible in Chromosome 1 given only your list of missing 10-mers:\n",
    "    Using the same logic as above, I predict about 590880 missing 12-mers.\n",
    "    \n",
    "Breifly explain how you arrived at your lower-bound estimate for the missing number of 12-mers:\n",
    "    Lecture 2 slide 10 shows that as you go from missing 11-mers to missing 12-mers, you increase by a factor of 4, so I multiplied the number of missing 11-mers by 4."
   ]
  },
  {
   "cell_type": "markdown",
   "metadata": {
    "number": 4,
    "section": "problem"
   },
   "source": [
    "---\n",
    "**Problem #4:**\n",
    "\n",
    "According to the code from Lecture 4, a first step of searching for instances of the Long Terminal Repeat sequence, LTR14A, in the human genome is to find a list of *(position, kmer-index)* tuples, which were then plotted. If we allow for a maximum of 10 bases that differ from the given 344 base sequence (assuming only simple substitutions), what is the smallest number of matching 19-mers possible? Explain your reasoning. "
   ]
  },
  {
   "cell_type": "raw",
   "metadata": {
    "number": 4,
    "section": "answer"
   },
   "source": [
    "# This cell is graded\n",
    "What is the fewest number of matching 19-mers if the LTR has no more than 10 base substitiutions: 136\n",
    "Explain your answer: \n",
    "    The equation (N-k+1) tells us there are 326 possible 19-mers in the 344 base sequence. If you change one base in the center of the sequence, that causes 19 kmers to mismtach between the original sequence and the modified sequence. We want to find the scenario that will create the maximum number of mismatches with 10 base changes because that will tell us the minimum number of matching 19-mers. That scenario is spreading the 10 base changes an equal distance apart throughout the sequence to create the maximum number of mismatches. 344 divided by 10 is 34.4 so if we put a change every 34 bases, we will maximize our differences. \n",
    "    Each change creates 19 mismatches and multiply that by 10 changes, you get 190 differing kmers. There are 326 possible kmers in the sequence so 326 - 190 = 136, so the smallest number of possible matching 19-mers is 136."
   ]
  },
  {
   "cell_type": "markdown",
   "metadata": {
    "number": 5,
    "section": "problem"
   },
   "source": [
    "---\n",
    "**Problem #5:**\n",
    "\n",
    "The goal of this problem is to make a list identifying potential full ERVs in the human genome. Write a code fragment that uses the (position, kmer-index) tuples from Lecture 4 to find all LTR pairs satisfying the following conditions:\n",
    "\n",
    "1. Both LTRs include at least 20% of their expected k-mers in order\n",
    "2. Both LTRs are on the same strand\n",
    "3. The span from the first k-mer of the first LTR to the last k-mer of the second LTR is less than 10000 bases\n",
    "\n",
    "Your code should output a list of tuples with the following values in order, the contig name, the position of first k-mer of the first LRT, and  the postion of the last k-mer of the second LTR. For example the interval output for the example given in class would be:\n",
    "\n",
    "('1', 62178464, 62183772)\n",
    "\n",
    "In the answer cell provide a list of all the tuples that you found. "
   ]
  },
  {
   "cell_type": "code",
   "execution_count": 47,
   "metadata": {},
   "outputs": [],
   "source": [
    "# this is all from lecture 4, slides 7 and 8\n",
    "# from the code on slide 8, I took out the time components and made it so this function returns a list of positions\n",
    "def revComp(dnaSeq):\n",
    "    return ''.join([{'A':'T','C':'G','G':'C','T':'A'}[base] for base in reversed(dnaSeq)])\n",
    "\n",
    "def chromoSearch(contig, ltr, K):\n",
    "    genome = []\n",
    "    kmerCount = {}\n",
    "    position = []\n",
    "    \n",
    "    ltr = ltr.upper()\n",
    "    \n",
    "    # the forward and reverse dictionaries have the kmer as the key and the position of the first base as the value\n",
    "    forward = dict([(ltr[i:i+K], i) for i in range(1,len(ltr)-K+1)])\n",
    "    rev = \"+\" + revComp(ltr[1:])\n",
    "    reverse = dict([(rev[i:i+K], -i) for i in range(1,len(rev)-K+1)])\n",
    "  \n",
    "    # so the position list is set up as (position in the genome, position in the LTR)\n",
    "    for i in range(1,len(contig)-K+1):\n",
    "        kmer = contig[i:i+K]\n",
    "        if (kmer in forward):\n",
    "            position.append((i,forward[kmer]))\n",
    "        elif (kmer in reverse):\n",
    "            position.append((i,reverse[kmer]))\n",
    "        else:\n",
    "            if (len(position) > 2) and (position[-2][1] == 0) and (position[-1][1] == 0):\n",
    "                position.pop()\n",
    "            position.append((i,0))\n",
    "    return position"
   ]
  },
  {
   "cell_type": "code",
   "execution_count": 48,
   "metadata": {},
   "outputs": [],
   "source": [
    "# Boo and office hours helped a lot with this function and the searchBackward function but I understand how they operate\n",
    "def searchForward(positions, threshold):\n",
    "    ltrFound = []\n",
    "    count = 0\n",
    "    prev = 0\n",
    "    first = 0\n",
    "    last = 0\n",
    "    \n",
    "    #for each position, check to see if the threshold condition is met\n",
    "    for x in positions:\n",
    "        # if position in LTR is greater than in the previous LTR position, then start the count\n",
    "        if x[1] > prev:\n",
    "            if prev == 0:\n",
    "                first = x[0]\n",
    "            count += 1\n",
    "            prev = x[1]\n",
    "            last = x[0]\n",
    "        elif x[1] < prev and x[1] != 0:\n",
    "            if count >= threshold:\n",
    "                ltrFound.append((first, last))\n",
    "            if x[1] > 0:\n",
    "                count = 1\n",
    "                prev = x[1]\n",
    "                last = x[0]\n",
    "                first = x[0]\n",
    "            else:\n",
    "                count = 0\n",
    "                prev = 0\n",
    "                first = 0\n",
    "                last = 0\n",
    "    return ltrFound    "
   ]
  },
  {
   "cell_type": "code",
   "execution_count": 49,
   "metadata": {},
   "outputs": [],
   "source": [
    "def searchBackward(positions, threshold):\n",
    "    ltrFound = []\n",
    "    count = 0\n",
    "    prev = 0\n",
    "    first = 0\n",
    "    last = 0\n",
    "    \n",
    "    #for each position, check to see if the threshold condition is met\n",
    "    for x in positions:\n",
    "        if x[1] < prev:\n",
    "            if prev == 0:\n",
    "                first = x[0]\n",
    "            count += 1\n",
    "            prev = x[1]\n",
    "            last = x[0]\n",
    "        elif x[1] > prev and x[1] != 0:\n",
    "            if count >= threshold:\n",
    "                ltrFound.append((first, last))\n",
    "            if x[1] < 0:\n",
    "                count = 1\n",
    "                prev = x[1]\n",
    "                last = x[0]\n",
    "                first = x[0]\n",
    "            else:\n",
    "                count = 0\n",
    "                prev = 0\n",
    "                first = 0\n",
    "                last = 0\n",
    "    return ltrFound "
   ]
  },
  {
   "cell_type": "code",
   "execution_count": 57,
   "metadata": {},
   "outputs": [
    {
     "name": "stdout",
     "output_type": "stream",
     "text": [
      "[('1', 62178464, 62183771), ('6', 134600811, 134605405), ('7', 138339214, 138345790), ('17', 75022576, 75030502), ('22', 30675436, 30679905), ('X', 101183288, 101189830), ('X', 118293074, 118300698)]\n"
     ]
    }
   ],
   "source": [
    "#chrseq = open('data/genomes/Chr1.seq', 'r').read()\n",
    "#chromo = [1]\n",
    "header, seq = loadFasta(\"data/LTR14A.fa\")\n",
    "ervs = []\n",
    "DATA = \"data/genomes/\"\n",
    "chromo = [str(i) for i in range(1,23)] + ['X', 'Y', 'MT']\n",
    "\n",
    "for contig in chromo:\n",
    "    with open(DATA+\"Chr%s.seq\" % contig, 'r') as fp:\n",
    "        chrseq = fp.read()\n",
    "        positions = chromoSearch(chrseq, seq[0], 19)\n",
    "        \n",
    "        # threshold = 66 because 20% of 326 is about 66\n",
    "        ff = searchForward(positions, 66)\n",
    "        # for the forward positions, compare and make sure there are no more than 10000 bases between them\n",
    "        for i in range (0, len(ff)-1):\n",
    "            if ff[i+1][1] - ff[i][0] < 10000:\n",
    "                ervs.append((contig, ff[i][0], ff[i+1][1]))\n",
    "\n",
    "        fr = searchBackward(positions, 66)\n",
    "        for i in range (0, len(fr)-1):\n",
    "            if fr[i+1][1] - fr[i][0] < 10000:\n",
    "                ervs.append((contig, fr[i][0], fr[i+1][1]))\n",
    "\n",
    "print(ervs)"
   ]
  },
  {
   "cell_type": "raw",
   "metadata": {
    "number": 5,
    "section": "answer"
   },
   "source": [
    "# This cell is graded, it should be a list of tuples [(contig,start,end), ....]\n",
    "\n",
    "[('1', 62178464, 62183771), ('6', 134600811, 134605405), ('7', 138339214, 138345790), ('17', 75022576, 75030502), ('22', 30675436, 30679905), ('X', 101183288, 101189830), ('X', 118293074, 118300698)]"
   ]
  },
  {
   "cell_type": "markdown",
   "metadata": {},
   "source": [
    "---\n",
    "\n",
    "## Instructions for submitting your problem set\n",
    "\n",
    "When you are ready to submit a version of your problem set, follow the instructions below.\n",
    "\n",
    "1. Press [Save and Checkpoint] on the *File* menu of your Jupyter notebook.\n",
    "2. Press the link below, which will take you to a website for submitting your problem set.\n",
    "3. Choose the ***correct problem set number*** from the pull-down, else you might overwrite an earlier submission.\n",
    "4. Enter in your onyen and PID in the form provided, then upload your submission.\n",
    "\n",
    "Click [here to submit](http://csbio.unc.edu/mcmillan/index.py?run=PS.upload) your completed problem set\n",
    "\n",
    "**Instructions for resubmissions:**\n",
    "\n",
    "1. You may resubmit as many times as you like before the deadline. \n",
    "2. Resubmissions *always* overwrite any earlier submissions. \n",
    "3. If you resubmit after the due date, you will be warned of any penalties. \n",
    "4. Problem sets will not be regraded."
   ]
  }
 ],
 "metadata": {
  "kernelspec": {
   "display_name": "Python 3",
   "language": "python",
   "name": "python3"
  },
  "language_info": {
   "codemirror_mode": {
    "name": "ipython",
    "version": 3
   },
   "file_extension": ".py",
   "mimetype": "text/x-python",
   "name": "python",
   "nbconvert_exporter": "python",
   "pygments_lexer": "ipython3",
   "version": "3.8.5"
  }
 },
 "nbformat": 4,
 "nbformat_minor": 2
}
